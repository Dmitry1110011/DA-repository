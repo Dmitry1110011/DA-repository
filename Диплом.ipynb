{
 "cells": [
  {
   "cell_type": "code",
   "execution_count": 184,
   "id": "06dc208b",
   "metadata": {},
   "outputs": [],
   "source": [
    "from scipy.stats import ttest_ind\n",
    "import scipy.stats as stats\n",
    "import numpy as np\n",
    "from math import sqrt\n",
    "from scipy import stats\n",
    "from numpy import cov, linspace\n",
    "from statistics import mean\n",
    "from numpy.random import normal, exponential\n",
    "import matplotlib.pyplot as plt\n",
    "from random import random\n",
    "%matplotlib inline\n",
    "import pandas as pd\n",
    "import seaborn as sns \n",
    "import matplotlib.pyplot as plt\n",
    "import datetime as dt"
   ]
  },
  {
   "cell_type": "code",
   "execution_count": 185,
   "id": "7aea9607",
   "metadata": {},
   "outputs": [],
   "source": [
    "# 1.1.   Импортируйте данные в окружение *Jupyter Notebook*.\n",
    "# 1.2.   Изучите все три таблицы и проверьте их на наличие пустых значений.\n",
    "\n",
    "data = pd.read_excel('Новый диплом датасет.xlsx', sheet_name = 'Данные', parse_dates=['dtime_pay'])\n",
    "clients = pd.read_excel('Новый диплом датасет.xlsx', sheet_name = 'Clients') #, parse_dates=['dtime_ad'])\n",
    "region_dict = pd.read_excel('Новый диплом датасет.xlsx', sheet_name = 'Region_dict')"
   ]
  },
  {
   "cell_type": "code",
   "execution_count": 186,
   "id": "ed01b289",
   "metadata": {},
   "outputs": [],
   "source": [
    "# 1.3.   Исключите из таблиц все строки, в которых есть нулловые значения.\n",
    "\n",
    "data = data.dropna() # если не дропать dtime_pay, мы не потеряем всего 17 платежей. Незначительное количество, поэтому смело дропаем всю таблицу\n",
    "#clients = clients.dropna()\n",
    "# В таблице clients есть незаполненные значения только в колонке dtime_ad.\n",
    "# Чтобы не терять платежи, пустые значения оставляю. Заменять пустые значения чем-либо нет смысла."
   ]
  },
  {
   "cell_type": "code",
   "execution_count": 187,
   "id": "c30b73c6",
   "metadata": {},
   "outputs": [
    {
     "name": "stdout",
     "output_type": "stream",
     "text": [
      "       id_order  id_client  amt_payment               dtime_pay\n",
      "0        100238   194569.0       5373.0 2022-10-28 04:05:15.221\n",
      "1        100242   191056.0       4151.0 2022-08-01 02:42:54.992\n",
      "2        100249   200049.0       5688.0 2022-08-24 12:45:12.744\n",
      "3        100258   206161.0       4330.0 2022-12-09 15:13:26.437\n",
      "4        100267   190945.0       5488.0 2022-08-03 02:07:31.468\n",
      "...         ...        ...          ...                     ...\n",
      "37983    297572   195257.0       2191.0 2022-08-21 18:31:51.585\n",
      "37985    297593   179230.0       5755.0 2022-09-05 03:29:07.726\n",
      "37986    297595   192530.0       4448.0 2022-09-27 23:50:05.734\n",
      "37987    297601   183888.0       1746.0 2022-10-13 14:23:03.073\n",
      "37988    297607   182638.0       3604.0 2022-10-13 14:51:59.902\n",
      "\n",
      "[35828 rows x 4 columns]\n",
      "<class 'pandas.core.frame.DataFrame'>\n",
      "Int64Index: 35828 entries, 0 to 37988\n",
      "Data columns (total 4 columns):\n",
      " #   Column       Non-Null Count  Dtype         \n",
      "---  ------       --------------  -----         \n",
      " 0   id_order     35828 non-null  int64         \n",
      " 1   id_client    35828 non-null  float64       \n",
      " 2   amt_payment  35828 non-null  float64       \n",
      " 3   dtime_pay    35828 non-null  datetime64[ns]\n",
      "dtypes: datetime64[ns](1), float64(2), int64(1)\n",
      "memory usage: 1.4 MB\n",
      "None\n",
      "       id_client                dtime_ad  nflag_test  id_trading_point\n",
      "0         180844 2022-06-08 18:38:41.414           0               212\n",
      "1         193942                     NaT           0                13\n",
      "2         226069 2022-07-11 16:28:38.511           1                54\n",
      "3         183981 2022-06-16 12:23:59.289           1               991\n",
      "4         322530 2022-07-08 08:56:08.714           0              1015\n",
      "...          ...                     ...         ...               ...\n",
      "55600     193038 2022-07-09 00:31:25.196           0              1015\n",
      "55601     244069 2022-08-08 00:12:31.319           1               991\n",
      "55602     189084 2022-06-29 04:34:42.610           1               439\n",
      "55603     182758 2022-06-13 11:28:37.856           1               573\n",
      "55604     317377 2022-08-12 15:43:54.538           1               477\n",
      "\n",
      "[55605 rows x 4 columns]\n",
      "<class 'pandas.core.frame.DataFrame'>\n",
      "RangeIndex: 55605 entries, 0 to 55604\n",
      "Data columns (total 4 columns):\n",
      " #   Column            Non-Null Count  Dtype         \n",
      "---  ------            --------------  -----         \n",
      " 0   id_client         55605 non-null  int64         \n",
      " 1   dtime_ad          55356 non-null  datetime64[ns]\n",
      " 2   nflag_test        55605 non-null  int64         \n",
      " 3   id_trading_point  55605 non-null  int64         \n",
      "dtypes: datetime64[ns](1), int64(3)\n",
      "memory usage: 1.7 MB\n",
      "None\n",
      "    id_trading_point            city\n",
      "0                  1    Петрозаводск\n",
      "1                  2         Дмитров\n",
      "2                  4           Чехов\n",
      "3                  7  Ростов Великий\n",
      "4                 11        Владимир\n",
      "..               ...             ...\n",
      "61              3987          Москва\n",
      "62              6543          Москва\n",
      "63              8543          Москва\n",
      "64              9121          Москва\n",
      "65              9931          Москва\n",
      "\n",
      "[66 rows x 2 columns]\n",
      "<class 'pandas.core.frame.DataFrame'>\n",
      "RangeIndex: 66 entries, 0 to 65\n",
      "Data columns (total 2 columns):\n",
      " #   Column            Non-Null Count  Dtype \n",
      "---  ------            --------------  ----- \n",
      " 0   id_trading_point  66 non-null     int64 \n",
      " 1   city              66 non-null     object\n",
      "dtypes: int64(1), object(1)\n",
      "memory usage: 1.2+ KB\n",
      "None\n"
     ]
    }
   ],
   "source": [
    "print (data)\n",
    "print (data.info())\n",
    "print (clients)\n",
    "print (clients.info())\n",
    "print (region_dict)\n",
    "print (region_dict.info())"
   ]
  },
  {
   "cell_type": "code",
   "execution_count": 188,
   "id": "a2e00f2e",
   "metadata": {},
   "outputs": [],
   "source": [
    "# 1.4. Исследуйте количество торговых точек в каждом городе - постройте группировку по количеству в каждом городе.\n",
    "\n",
    "cnt_trading_point = region_dict.groupby(['city'])['id_trading_point'].count().sort_values(ascending = False)"
   ]
  },
  {
   "cell_type": "code",
   "execution_count": 189,
   "id": "1c2fa961",
   "metadata": {},
   "outputs": [],
   "source": [
    "cnt_trading_point = cnt_trading_point.reset_index() \n",
    "cnt_trading_point = cnt_trading_point.rename(columns={'id_trading_point': 'cnt_trading_point'})"
   ]
  },
  {
   "cell_type": "code",
   "execution_count": 190,
   "id": "c507c95b",
   "metadata": {},
   "outputs": [
    {
     "name": "stdout",
     "output_type": "stream",
     "text": [
      "                city  cnt_trading_point\n",
      "0    Санкт-Петербург                 11\n",
      "1             Москва                 11\n",
      "2             Казань                  6\n",
      "3        Новосибирск                  6\n",
      "4         Красноярск                  5\n",
      "5          Краснодар                  4\n",
      "6             Самара                  4\n",
      "7           Мурманск                  2\n",
      "8               Сочи                  2\n",
      "9            Саратов                  2\n",
      "10  Великий Новгород                  1\n",
      "11             Чехов                  1\n",
      "12            Тюмень                  1\n",
      "13          Тольятти                  1\n",
      "14         Сахалинск                  1\n",
      "15      Петрозаводск                  1\n",
      "16    Ростов-на-Дону                  1\n",
      "17    Ростов Великий                  1\n",
      "18          Владимир                  1\n",
      "19   Нижний Новгород                  1\n",
      "20           Дмитров                  1\n",
      "21         Волгоград                  1\n",
      "22         Ярославль                  1\n",
      "<class 'pandas.core.frame.DataFrame'>\n",
      "RangeIndex: 23 entries, 0 to 22\n",
      "Data columns (total 2 columns):\n",
      " #   Column             Non-Null Count  Dtype \n",
      "---  ------             --------------  ----- \n",
      " 0   city               23 non-null     object\n",
      " 1   cnt_trading_point  23 non-null     int64 \n",
      "dtypes: int64(1), object(1)\n",
      "memory usage: 500.0+ bytes\n",
      "None\n"
     ]
    }
   ],
   "source": [
    "print (cnt_trading_point)\n",
    "print (cnt_trading_point.info())"
   ]
  },
  {
   "cell_type": "code",
   "execution_count": 191,
   "id": "9745f001",
   "metadata": {},
   "outputs": [
    {
     "data": {
      "image/png": "[encoded data removed]",
      "text/plain": [
       "<Figure size 1600x900 with 1 Axes>"
      ]
     },
     "metadata": {},
     "output_type": "display_data"
    }
   ],
   "source": [
    "# визуализируйте с помощью гистограммы. \n",
    "\n",
    "plt.figure(figsize=(16, 9))\n",
    "plt.bar (cnt_trading_point['city'], cnt_trading_point['cnt_trading_point'])\n",
    "plt.xlabel (('Название города'), fontsize=14, fontweight='bold')\n",
    "plt.xticks (rotation=90)\n",
    "plt.xticks(fontsize=12, fontweight='bold')\n",
    "plt.ylabel (('Количество торговых точек'), fontsize=14, fontweight='bold')\n",
    "plt.yticks (range(1, 12), fontweight='bold')\n",
    "plt.title (('Распределение количества торговых точек по городам'), fontsize=16, fontweight='bold')\n",
    "plt.show()"
   ]
  },
  {
   "cell_type": "code",
   "execution_count": 192,
   "id": "3597821a",
   "metadata": {},
   "outputs": [],
   "source": [
    "# 2.1. У одного клиента может быть несколько платежей.\n",
    "# Постройте агрегацию таблицы с платежами, где вычислите сумму платежей на каждого клиента.\n",
    "\n",
    "sum_payment_per_client = data.groupby(['id_client'])['amt_payment'].sum().sort_values(ascending = False)"
   ]
  },
  {
   "cell_type": "code",
   "execution_count": 193,
   "id": "85247651",
   "metadata": {},
   "outputs": [],
   "source": [
    "sum_payment_per_client = sum_payment_per_client.reset_index()\n",
    "sum_payment_per_client = sum_payment_per_client.rename(columns={'amt_payment': 'sum_amt_payment'})"
   ]
  },
  {
   "cell_type": "code",
   "execution_count": 194,
   "id": "b8be44e0",
   "metadata": {},
   "outputs": [],
   "source": [
    "sum_payment_per_client[['id_client']] = sum_payment_per_client[['id_client']].astype( int )"
   ]
  },
  {
   "cell_type": "code",
   "execution_count": 195,
   "id": "b6b4dd63",
   "metadata": {},
   "outputs": [],
   "source": [
    "# 2.2.   Соедините (по клиенту) сгруппированную таблицу с платежами с клиентской таблицей.\n",
    "# Убедитесь, что в таблице остались все клиенты из клиентской таблицы.\n",
    "\n",
    "payments_per_client= pd.merge(clients, sum_payment_per_client,\n",
    "                              how='left',                      \n",
    "         left_on='id_client', right_on='id_client')"
   ]
  },
  {
   "cell_type": "code",
   "execution_count": 196,
   "id": "0a3232ab",
   "metadata": {},
   "outputs": [],
   "source": [
    "# 2.3. Заполните нулями суммы покупок тех клиентов, которые их не совершали\n",
    "\n",
    "payments_per_client['sum_amt_payment'] = payments_per_client['sum_amt_payment'].fillna(0)"
   ]
  },
  {
   "cell_type": "code",
   "execution_count": 197,
   "id": "cdcf82ac",
   "metadata": {},
   "outputs": [],
   "source": [
    "# 2.4. С помощью словаря регионов подтяните к каждой торговой точке город, в котором она находится.\n",
    "\n",
    "payments_per_client= pd.merge(payments_per_client, region_dict,\n",
    "                              how='left',                      \n",
    "         left_on='id_trading_point', right_on='id_trading_point')"
   ]
  },
  {
   "cell_type": "code",
   "execution_count": 198,
   "id": "1c001a77",
   "metadata": {},
   "outputs": [],
   "source": [
    "# 2.5. Создайте поле флаг платежа, который принимает значения 0 или 1 в зависимости от того, заплатил клиент или нет\n",
    "\n",
    "payments_per_client['flag_payment'] = np.where (payments_per_client ['sum_amt_payment']  > 0, 1, 0 )"
   ]
  },
  {
   "cell_type": "code",
   "execution_count": 199,
   "id": "6d320ae3",
   "metadata": {},
   "outputs": [
    {
     "data": {
      "text/html": [
       "<div>\n",
       "<style scoped>\n",
       "    .dataframe tbody tr th:only-of-type {\n",
       "        vertical-align: middle;\n",
       "    }\n",
       "\n",
       "    .dataframe tbody tr th {\n",
       "        vertical-align: top;\n",
       "    }\n",
       "\n",
       "    .dataframe thead th {\n",
       "        text-align: right;\n",
       "    }\n",
       "</style>\n",
       "<table border=\"1\" class=\"dataframe\">\n",
       "  <thead>\n",
       "    <tr style=\"text-align: right;\">\n",
       "      <th></th>\n",
       "      <th>id_client</th>\n",
       "      <th>dtime_ad</th>\n",
       "      <th>nflag_test</th>\n",
       "      <th>id_trading_point</th>\n",
       "      <th>sum_amt_payment</th>\n",
       "      <th>city</th>\n",
       "      <th>flag_payment</th>\n",
       "    </tr>\n",
       "  </thead>\n",
       "  <tbody>\n",
       "    <tr>\n",
       "      <th>0</th>\n",
       "      <td>180844</td>\n",
       "      <td>2022-06-08 18:38:41.414</td>\n",
       "      <td>0</td>\n",
       "      <td>212</td>\n",
       "      <td>5349.0</td>\n",
       "      <td>Красноярск</td>\n",
       "      <td>1</td>\n",
       "    </tr>\n",
       "    <tr>\n",
       "      <th>1</th>\n",
       "      <td>193942</td>\n",
       "      <td>NaT</td>\n",
       "      <td>0</td>\n",
       "      <td>13</td>\n",
       "      <td>4144.0</td>\n",
       "      <td>Нижний Новгород</td>\n",
       "      <td>1</td>\n",
       "    </tr>\n",
       "    <tr>\n",
       "      <th>2</th>\n",
       "      <td>226069</td>\n",
       "      <td>2022-07-11 16:28:38.511</td>\n",
       "      <td>1</td>\n",
       "      <td>54</td>\n",
       "      <td>0.0</td>\n",
       "      <td>Мурманск</td>\n",
       "      <td>0</td>\n",
       "    </tr>\n",
       "    <tr>\n",
       "      <th>3</th>\n",
       "      <td>183981</td>\n",
       "      <td>2022-06-16 12:23:59.289</td>\n",
       "      <td>1</td>\n",
       "      <td>991</td>\n",
       "      <td>6322.0</td>\n",
       "      <td>Казань</td>\n",
       "      <td>1</td>\n",
       "    </tr>\n",
       "    <tr>\n",
       "      <th>4</th>\n",
       "      <td>322530</td>\n",
       "      <td>2022-07-08 08:56:08.714</td>\n",
       "      <td>0</td>\n",
       "      <td>1015</td>\n",
       "      <td>0.0</td>\n",
       "      <td>Краснодар</td>\n",
       "      <td>0</td>\n",
       "    </tr>\n",
       "    <tr>\n",
       "      <th>...</th>\n",
       "      <td>...</td>\n",
       "      <td>...</td>\n",
       "      <td>...</td>\n",
       "      <td>...</td>\n",
       "      <td>...</td>\n",
       "      <td>...</td>\n",
       "      <td>...</td>\n",
       "    </tr>\n",
       "    <tr>\n",
       "      <th>55600</th>\n",
       "      <td>193038</td>\n",
       "      <td>2022-07-09 00:31:25.196</td>\n",
       "      <td>0</td>\n",
       "      <td>1015</td>\n",
       "      <td>5846.0</td>\n",
       "      <td>Краснодар</td>\n",
       "      <td>1</td>\n",
       "    </tr>\n",
       "    <tr>\n",
       "      <th>55601</th>\n",
       "      <td>244069</td>\n",
       "      <td>2022-08-08 00:12:31.319</td>\n",
       "      <td>1</td>\n",
       "      <td>991</td>\n",
       "      <td>0.0</td>\n",
       "      <td>Казань</td>\n",
       "      <td>0</td>\n",
       "    </tr>\n",
       "    <tr>\n",
       "      <th>55602</th>\n",
       "      <td>189084</td>\n",
       "      <td>2022-06-29 04:34:42.610</td>\n",
       "      <td>1</td>\n",
       "      <td>439</td>\n",
       "      <td>7146.0</td>\n",
       "      <td>Казань</td>\n",
       "      <td>1</td>\n",
       "    </tr>\n",
       "    <tr>\n",
       "      <th>55603</th>\n",
       "      <td>182758</td>\n",
       "      <td>2022-06-13 11:28:37.856</td>\n",
       "      <td>1</td>\n",
       "      <td>573</td>\n",
       "      <td>13720.0</td>\n",
       "      <td>Санкт-Петербург</td>\n",
       "      <td>1</td>\n",
       "    </tr>\n",
       "    <tr>\n",
       "      <th>55604</th>\n",
       "      <td>317377</td>\n",
       "      <td>2022-08-12 15:43:54.538</td>\n",
       "      <td>1</td>\n",
       "      <td>477</td>\n",
       "      <td>0.0</td>\n",
       "      <td>Казань</td>\n",
       "      <td>0</td>\n",
       "    </tr>\n",
       "  </tbody>\n",
       "</table>\n",
       "<p>55605 rows × 7 columns</p>\n",
       "</div>"
      ],
      "text/plain": [
       "       id_client                dtime_ad  nflag_test  id_trading_point  \\\n",
       "0         180844 2022-06-08 18:38:41.414           0               212   \n",
       "1         193942                     NaT           0                13   \n",
       "2         226069 2022-07-11 16:28:38.511           1                54   \n",
       "3         183981 2022-06-16 12:23:59.289           1               991   \n",
       "4         322530 2022-07-08 08:56:08.714           0              1015   \n",
       "...          ...                     ...         ...               ...   \n",
       "55600     193038 2022-07-09 00:31:25.196           0              1015   \n",
       "55601     244069 2022-08-08 00:12:31.319           1               991   \n",
       "55602     189084 2022-06-29 04:34:42.610           1               439   \n",
       "55603     182758 2022-06-13 11:28:37.856           1               573   \n",
       "55604     317377 2022-08-12 15:43:54.538           1               477   \n",
       "\n",
       "       sum_amt_payment             city  flag_payment  \n",
       "0               5349.0       Красноярск             1  \n",
       "1               4144.0  Нижний Новгород             1  \n",
       "2                  0.0         Мурманск             0  \n",
       "3               6322.0           Казань             1  \n",
       "4                  0.0        Краснодар             0  \n",
       "...                ...              ...           ...  \n",
       "55600           5846.0        Краснодар             1  \n",
       "55601              0.0           Казань             0  \n",
       "55602           7146.0           Казань             1  \n",
       "55603          13720.0  Санкт-Петербург             1  \n",
       "55604              0.0           Казань             0  \n",
       "\n",
       "[55605 rows x 7 columns]"
      ]
     },
     "execution_count": 199,
     "metadata": {},
     "output_type": "execute_result"
    }
   ],
   "source": [
    "payments_per_client"
   ]
  },
  {
   "cell_type": "code",
   "execution_count": 200,
   "id": "07cb8ad0",
   "metadata": {},
   "outputs": [],
   "source": [
    "# 3.1. Создайте функцию ***test_calc***, которая будет вычислять значение t-критерия (критерия Стьюдента) и *p_value* \n",
    "# для сравнения средних и с помощью функции *print* выводить сообщение о том, существует ли разница между \n",
    "# средними (на основании *p_value*).\n",
    "# Аргументы функции:* *r1* (первая выборка), *r2* (вторая выборка), *alpha* (уровень значимости - имеет значение по умолчанию 5%)"
   ]
  },
  {
   "cell_type": "code",
   "execution_count": 201,
   "id": "668d3c53",
   "metadata": {},
   "outputs": [],
   "source": [
    "def test_calc (r1, r2, alpha = 0.05):\n",
    "    s, p = ttest_ind (r1, r2)\n",
    "    print ('Т-тест: стат.критерий =' ,s )    \n",
    "    print ('Т-тест: pvalue =' ,p )\n",
    "    if p > alpha:\n",
    "        print ('Т-тест: средние значения в выборках равны')\n",
    "    else:\n",
    "        print ('Т-тест: средние значения в выборках не равны')"
   ]
  },
  {
   "cell_type": "code",
   "execution_count": 202,
   "id": "bc7e1bf3",
   "metadata": {},
   "outputs": [],
   "source": [
    "# 3.2. Создайте функцию ***mann_whitney_func***, которая будет рассчитывать значение критерия Манна Уитни и p_value \n",
    "# для сравнения распределений и с помощью функции *print* выводить сообщение о том, существует ли разница между средними \n",
    "# (на основании *p_value*).\n",
    "# Аргументы функции:* *r1* (первая выборка), *r2* (вторая выборка), *alpha* (уровень значимости - имеет значение по умолчанию 5%)"
   ]
  },
  {
   "cell_type": "code",
   "execution_count": 203,
   "id": "d6b519a1",
   "metadata": {},
   "outputs": [],
   "source": [
    "def mann_whitney_func (r1, r2, alpha = 0.05):\n",
    "    s, p = stats.mannwhitneyu(r1, r2)\n",
    "    print ('Тест М-У: стат. критерий =' ,s )\n",
    "    print ('Тест М-У: pvalue =' ,p )\n",
    "    if p > alpha:\n",
    "        print ('Тест М-У: средние значения в выборках равны')\n",
    "    else:\n",
    "        print ('Тест М-У: средние значения в выборках не равны')\n",
    "    #return s, p"
   ]
  },
  {
   "cell_type": "code",
   "execution_count": 204,
   "id": "8dd9b622",
   "metadata": {},
   "outputs": [],
   "source": [
    "# 4.1.  Создайте пустой список. Запустите цикл по всем торговым точкам и добавьте к этому списку все торговые точки,\n",
    "# в которых не было заплачено ни одного рубля ни одним клиентом."
   ]
  },
  {
   "cell_type": "code",
   "execution_count": 205,
   "id": "d4c1c94a",
   "metadata": {},
   "outputs": [],
   "source": [
    "sum_payment_per_trading_point = payments_per_client.groupby(['id_trading_point'])['sum_amt_payment'].sum()"
   ]
  },
  {
   "cell_type": "code",
   "execution_count": 206,
   "id": "71cbeaf1",
   "metadata": {},
   "outputs": [],
   "source": [
    "sum_payment_per_trading_point = sum_payment_per_trading_point.reset_index()"
   ]
  },
  {
   "cell_type": "code",
   "execution_count": 207,
   "id": "8bf2b38e",
   "metadata": {},
   "outputs": [
    {
     "data": {
      "text/html": [
       "<div>\n",
       "<style scoped>\n",
       "    .dataframe tbody tr th:only-of-type {\n",
       "        vertical-align: middle;\n",
       "    }\n",
       "\n",
       "    .dataframe tbody tr th {\n",
       "        vertical-align: top;\n",
       "    }\n",
       "\n",
       "    .dataframe thead th {\n",
       "        text-align: right;\n",
       "    }\n",
       "</style>\n",
       "<table border=\"1\" class=\"dataframe\">\n",
       "  <thead>\n",
       "    <tr style=\"text-align: right;\">\n",
       "      <th></th>\n",
       "      <th>id_trading_point</th>\n",
       "      <th>sum_amt_payment</th>\n",
       "    </tr>\n",
       "  </thead>\n",
       "  <tbody>\n",
       "    <tr>\n",
       "      <th>0</th>\n",
       "      <td>1</td>\n",
       "      <td>0.0</td>\n",
       "    </tr>\n",
       "    <tr>\n",
       "      <th>1</th>\n",
       "      <td>2</td>\n",
       "      <td>79513.0</td>\n",
       "    </tr>\n",
       "    <tr>\n",
       "      <th>2</th>\n",
       "      <td>4</td>\n",
       "      <td>0.0</td>\n",
       "    </tr>\n",
       "    <tr>\n",
       "      <th>3</th>\n",
       "      <td>7</td>\n",
       "      <td>0.0</td>\n",
       "    </tr>\n",
       "    <tr>\n",
       "      <th>4</th>\n",
       "      <td>11</td>\n",
       "      <td>2578570.0</td>\n",
       "    </tr>\n",
       "    <tr>\n",
       "      <th>...</th>\n",
       "      <td>...</td>\n",
       "      <td>...</td>\n",
       "    </tr>\n",
       "    <tr>\n",
       "      <th>61</th>\n",
       "      <td>3987</td>\n",
       "      <td>2571287.0</td>\n",
       "    </tr>\n",
       "    <tr>\n",
       "      <th>62</th>\n",
       "      <td>6543</td>\n",
       "      <td>2180031.0</td>\n",
       "    </tr>\n",
       "    <tr>\n",
       "      <th>63</th>\n",
       "      <td>8543</td>\n",
       "      <td>527842.0</td>\n",
       "    </tr>\n",
       "    <tr>\n",
       "      <th>64</th>\n",
       "      <td>9121</td>\n",
       "      <td>459518.0</td>\n",
       "    </tr>\n",
       "    <tr>\n",
       "      <th>65</th>\n",
       "      <td>9931</td>\n",
       "      <td>486326.0</td>\n",
       "    </tr>\n",
       "  </tbody>\n",
       "</table>\n",
       "<p>66 rows × 2 columns</p>\n",
       "</div>"
      ],
      "text/plain": [
       "    id_trading_point  sum_amt_payment\n",
       "0                  1              0.0\n",
       "1                  2          79513.0\n",
       "2                  4              0.0\n",
       "3                  7              0.0\n",
       "4                 11        2578570.0\n",
       "..               ...              ...\n",
       "61              3987        2571287.0\n",
       "62              6543        2180031.0\n",
       "63              8543         527842.0\n",
       "64              9121         459518.0\n",
       "65              9931         486326.0\n",
       "\n",
       "[66 rows x 2 columns]"
      ]
     },
     "execution_count": 207,
     "metadata": {},
     "output_type": "execute_result"
    }
   ],
   "source": [
    "sum_payment_per_trading_point"
   ]
  },
  {
   "cell_type": "code",
   "execution_count": 208,
   "id": "03e72d9a",
   "metadata": {},
   "outputs": [
    {
     "name": "stdout",
     "output_type": "stream",
     "text": [
      "[1.0, 4.0, 7.0, 26.0]\n"
     ]
    }
   ],
   "source": [
    "zero_trading_point = []\n",
    "\n",
    "for i, j in sum_payment_per_trading_point.iterrows():\n",
    "    if j ['sum_amt_payment'] == 0:\n",
    "        zero_trading_point.append (j ['id_trading_point'] )\n",
    "\n",
    "print(zero_trading_point)"
   ]
  },
  {
   "cell_type": "code",
   "execution_count": 209,
   "id": "ef24336e",
   "metadata": {},
   "outputs": [],
   "source": [
    "# 4.2. Создайте еще один пустой список. Запустите цикл по всем торговым точкам и добавьте к этому списку все торговые точки,\n",
    "# в которых пустует или контрольная, или тестовая группа.\n",
    "\n"
   ]
  },
  {
   "cell_type": "code",
   "execution_count": 210,
   "id": "3e4b6bb7",
   "metadata": {},
   "outputs": [
    {
     "name": "stdout",
     "output_type": "stream",
     "text": [
      "[]\n"
     ]
    }
   ],
   "source": [
    "zero_test_flag = []\n",
    "\n",
    "for i, j in payments_per_client.iterrows():\n",
    "    if j ['nflag_test'] == None:\n",
    "        zero_test_flag.append (j ['id_trading_point'] )\n",
    "\n",
    "print(zero_test_flag)"
   ]
  },
  {
   "cell_type": "code",
   "execution_count": 211,
   "id": "66106295",
   "metadata": {},
   "outputs": [
    {
     "data": {
      "text/html": [
       "<div>\n",
       "<style scoped>\n",
       "    .dataframe tbody tr th:only-of-type {\n",
       "        vertical-align: middle;\n",
       "    }\n",
       "\n",
       "    .dataframe tbody tr th {\n",
       "        vertical-align: top;\n",
       "    }\n",
       "\n",
       "    .dataframe thead th {\n",
       "        text-align: right;\n",
       "    }\n",
       "</style>\n",
       "<table border=\"1\" class=\"dataframe\">\n",
       "  <thead>\n",
       "    <tr style=\"text-align: right;\">\n",
       "      <th></th>\n",
       "      <th>id_client</th>\n",
       "      <th>dtime_ad</th>\n",
       "      <th>nflag_test</th>\n",
       "      <th>id_trading_point</th>\n",
       "      <th>sum_amt_payment</th>\n",
       "      <th>city</th>\n",
       "      <th>flag_payment</th>\n",
       "    </tr>\n",
       "  </thead>\n",
       "  <tbody>\n",
       "    <tr>\n",
       "      <th>0</th>\n",
       "      <td>180844</td>\n",
       "      <td>2022-06-08 18:38:41.414</td>\n",
       "      <td>0</td>\n",
       "      <td>212</td>\n",
       "      <td>5349.0</td>\n",
       "      <td>Красноярск</td>\n",
       "      <td>1</td>\n",
       "    </tr>\n",
       "    <tr>\n",
       "      <th>1</th>\n",
       "      <td>193942</td>\n",
       "      <td>NaT</td>\n",
       "      <td>0</td>\n",
       "      <td>13</td>\n",
       "      <td>4144.0</td>\n",
       "      <td>Нижний Новгород</td>\n",
       "      <td>1</td>\n",
       "    </tr>\n",
       "    <tr>\n",
       "      <th>2</th>\n",
       "      <td>226069</td>\n",
       "      <td>2022-07-11 16:28:38.511</td>\n",
       "      <td>1</td>\n",
       "      <td>54</td>\n",
       "      <td>0.0</td>\n",
       "      <td>Мурманск</td>\n",
       "      <td>0</td>\n",
       "    </tr>\n",
       "    <tr>\n",
       "      <th>3</th>\n",
       "      <td>183981</td>\n",
       "      <td>2022-06-16 12:23:59.289</td>\n",
       "      <td>1</td>\n",
       "      <td>991</td>\n",
       "      <td>6322.0</td>\n",
       "      <td>Казань</td>\n",
       "      <td>1</td>\n",
       "    </tr>\n",
       "    <tr>\n",
       "      <th>4</th>\n",
       "      <td>322530</td>\n",
       "      <td>2022-07-08 08:56:08.714</td>\n",
       "      <td>0</td>\n",
       "      <td>1015</td>\n",
       "      <td>0.0</td>\n",
       "      <td>Краснодар</td>\n",
       "      <td>0</td>\n",
       "    </tr>\n",
       "    <tr>\n",
       "      <th>...</th>\n",
       "      <td>...</td>\n",
       "      <td>...</td>\n",
       "      <td>...</td>\n",
       "      <td>...</td>\n",
       "      <td>...</td>\n",
       "      <td>...</td>\n",
       "      <td>...</td>\n",
       "    </tr>\n",
       "    <tr>\n",
       "      <th>55600</th>\n",
       "      <td>193038</td>\n",
       "      <td>2022-07-09 00:31:25.196</td>\n",
       "      <td>0</td>\n",
       "      <td>1015</td>\n",
       "      <td>5846.0</td>\n",
       "      <td>Краснодар</td>\n",
       "      <td>1</td>\n",
       "    </tr>\n",
       "    <tr>\n",
       "      <th>55601</th>\n",
       "      <td>244069</td>\n",
       "      <td>2022-08-08 00:12:31.319</td>\n",
       "      <td>1</td>\n",
       "      <td>991</td>\n",
       "      <td>0.0</td>\n",
       "      <td>Казань</td>\n",
       "      <td>0</td>\n",
       "    </tr>\n",
       "    <tr>\n",
       "      <th>55602</th>\n",
       "      <td>189084</td>\n",
       "      <td>2022-06-29 04:34:42.610</td>\n",
       "      <td>1</td>\n",
       "      <td>439</td>\n",
       "      <td>7146.0</td>\n",
       "      <td>Казань</td>\n",
       "      <td>1</td>\n",
       "    </tr>\n",
       "    <tr>\n",
       "      <th>55603</th>\n",
       "      <td>182758</td>\n",
       "      <td>2022-06-13 11:28:37.856</td>\n",
       "      <td>1</td>\n",
       "      <td>573</td>\n",
       "      <td>13720.0</td>\n",
       "      <td>Санкт-Петербург</td>\n",
       "      <td>1</td>\n",
       "    </tr>\n",
       "    <tr>\n",
       "      <th>55604</th>\n",
       "      <td>317377</td>\n",
       "      <td>2022-08-12 15:43:54.538</td>\n",
       "      <td>1</td>\n",
       "      <td>477</td>\n",
       "      <td>0.0</td>\n",
       "      <td>Казань</td>\n",
       "      <td>0</td>\n",
       "    </tr>\n",
       "  </tbody>\n",
       "</table>\n",
       "<p>54699 rows × 7 columns</p>\n",
       "</div>"
      ],
      "text/plain": [
       "       id_client                dtime_ad  nflag_test  id_trading_point  \\\n",
       "0         180844 2022-06-08 18:38:41.414           0               212   \n",
       "1         193942                     NaT           0                13   \n",
       "2         226069 2022-07-11 16:28:38.511           1                54   \n",
       "3         183981 2022-06-16 12:23:59.289           1               991   \n",
       "4         322530 2022-07-08 08:56:08.714           0              1015   \n",
       "...          ...                     ...         ...               ...   \n",
       "55600     193038 2022-07-09 00:31:25.196           0              1015   \n",
       "55601     244069 2022-08-08 00:12:31.319           1               991   \n",
       "55602     189084 2022-06-29 04:34:42.610           1               439   \n",
       "55603     182758 2022-06-13 11:28:37.856           1               573   \n",
       "55604     317377 2022-08-12 15:43:54.538           1               477   \n",
       "\n",
       "       sum_amt_payment             city  flag_payment  \n",
       "0               5349.0       Красноярск             1  \n",
       "1               4144.0  Нижний Новгород             1  \n",
       "2                  0.0         Мурманск             0  \n",
       "3               6322.0           Казань             1  \n",
       "4                  0.0        Краснодар             0  \n",
       "...                ...              ...           ...  \n",
       "55600           5846.0        Краснодар             1  \n",
       "55601              0.0           Казань             0  \n",
       "55602           7146.0           Казань             1  \n",
       "55603          13720.0  Санкт-Петербург             1  \n",
       "55604              0.0           Казань             0  \n",
       "\n",
       "[54699 rows x 7 columns]"
      ]
     },
     "execution_count": 211,
     "metadata": {},
     "output_type": "execute_result"
    }
   ],
   "source": [
    "# 5.1. Отбросьте все торговые точки, которые были вами обнаружены в пункте 4\n",
    "\n",
    "payments_per_client_without_zero_trading_point = payments_per_client[~payments_per_client['id_trading_point'].isin(zero_trading_point)]\n",
    "payments_per_client_without_zero_trading_point"
   ]
  },
  {
   "cell_type": "code",
   "execution_count": 212,
   "id": "66591f6c",
   "metadata": {},
   "outputs": [
    {
     "data": {
      "image/png": "[encoded data removed]",
      "text/plain": [
       "<Figure size 1400x800 with 1 Axes>"
      ]
     },
     "metadata": {},
     "output_type": "display_data"
    }
   ],
   "source": [
    "# 5.2. Изобразите гистограмму платежей, на которой различными цветами изображены группы “тест” и “контроль”.\n",
    "\n",
    "sns.set(rc={'figure.figsize':(14, 8 )})\n",
    "ax1 = sns.histplot(payments_per_client_without_zero_trading_point [ payments_per_client_without_zero_trading_point ['nflag_test']==0] ['sum_amt_payment'], color='blue')\n",
    "ax2 = sns.histplot(payments_per_client_without_zero_trading_point [ payments_per_client_without_zero_trading_point ['nflag_test']==1] ['sum_amt_payment'], color='orange')\n",
    "ax1.set  (xlabel='Сумма платежей', ylabel='Кол-во платежей')\n",
    "plt.title (('Распределение суммарных платежей уникальных клиентов в контрольной и тестовой группах'), fontsize=16, fontweight='bold')\n",
    "plt.legend( ['Контрольная группа' , 'Тестовая группа'] )\n",
    "plt.show()"
   ]
  },
  {
   "cell_type": "code",
   "execution_count": 213,
   "id": "bf165fbb",
   "metadata": {},
   "outputs": [
    {
     "data": {
      "image/png": "[encoded data removed]",
      "text/plain": [
       "<Figure size 1400x800 with 1 Axes>"
      ]
     },
     "metadata": {},
     "output_type": "display_data"
    }
   ],
   "source": [
    "sns.set(rc={'figure.figsize':(14,8)})\n",
    "ax1 = sns.histplot(payments_per_client_without_zero_trading_point [ payments_per_client_without_zero_trading_point ['nflag_test']==0] ['sum_amt_payment'], color='blue')\n",
    "ax1.set  (xlabel='Сумма платежей', ylabel='Кол-во платежей')\n",
    "plt.title (('Распределение суммарных платежей уникальных клиентов в контрольной группе'), fontsize=16, fontweight='bold')\n",
    "plt.show()"
   ]
  },
  {
   "cell_type": "code",
   "execution_count": 214,
   "id": "f2a26e0d",
   "metadata": {},
   "outputs": [
    {
     "data": {
      "image/png": "[encoded data removed]",
      "text/plain": [
       "<Figure size 1400x800 with 1 Axes>"
      ]
     },
     "metadata": {},
     "output_type": "display_data"
    }
   ],
   "source": [
    "sns.set(rc={'figure.figsize':(14,8)})\n",
    "ax2 = sns.histplot(payments_per_client_without_zero_trading_point [ payments_per_client_without_zero_trading_point ['nflag_test']==1] ['sum_amt_payment'], color='orange')\n",
    "ax2.set  (xlabel='Сумма платежей', ylabel='Кол-во платежей')\n",
    "plt.title (('Распределение суммарных платежей уникальных клиентов в тестовой группе'), fontsize=16, fontweight='bold')\n",
    "plt.show()"
   ]
  },
  {
   "cell_type": "code",
   "execution_count": 215,
   "id": "a1df7694",
   "metadata": {},
   "outputs": [],
   "source": [
    "# 5.3. Примените функцию test_calc и сделайте вывод (сравниваем средние платежи)\n",
    "\n",
    "r1 = payments_per_client_without_zero_trading_point[ payments_per_client_without_zero_trading_point ['nflag_test']==0 ] ['sum_amt_payment']\n",
    "r2 = payments_per_client_without_zero_trading_point[ payments_per_client_without_zero_trading_point ['nflag_test']==1 ] ['sum_amt_payment']"
   ]
  },
  {
   "cell_type": "code",
   "execution_count": 216,
   "id": "6eeb1699",
   "metadata": {},
   "outputs": [
    {
     "name": "stdout",
     "output_type": "stream",
     "text": [
      "Т-тест: стат.критерий = -6.890400488288935\n",
      "Т-тест: pvalue = 5.6235533648548836e-12\n",
      "Т-тест: средние значения в выборках не равны\n"
     ]
    }
   ],
   "source": [
    "test_calc (r1, r2, alpha = 0.05)"
   ]
  },
  {
   "cell_type": "code",
   "execution_count": 217,
   "id": "caac5777",
   "metadata": {},
   "outputs": [],
   "source": [
    "# 5.4. Примените функцию test_calc и сделайте вывод (сравниваем конверсию в платеж, то есть r1 и r2 - это ряды нулей и единиц,\n",
    "# в зависимости от того, оплатил ли что-то клиент или нет).\n",
    "\n",
    "r3 = payments_per_client_without_zero_trading_point[ payments_per_client_without_zero_trading_point ['nflag_test']==0 ] ['flag_payment']\n",
    "r4 = payments_per_client_without_zero_trading_point[ payments_per_client_without_zero_trading_point ['nflag_test']==1 ] ['flag_payment']"
   ]
  },
  {
   "cell_type": "code",
   "execution_count": 218,
   "id": "d8c916e9",
   "metadata": {},
   "outputs": [
    {
     "name": "stdout",
     "output_type": "stream",
     "text": [
      "Т-тест: стат.критерий = -5.828323333731957\n",
      "Т-тест: pvalue = 5.630023064069756e-09\n",
      "Т-тест: средние значения в выборках не равны\n"
     ]
    }
   ],
   "source": [
    "test_calc (r3, r4, alpha = 0.05)"
   ]
  },
  {
   "cell_type": "code",
   "execution_count": 219,
   "id": "7a50e502",
   "metadata": {},
   "outputs": [
    {
     "name": "stdout",
     "output_type": "stream",
     "text": [
      "Тест М-У: стат. критерий = 360079654.0\n",
      "Тест М-У: pvalue = 9.797324854692603e-12\n",
      "Тест М-У: средние значения в выборках не равны\n"
     ]
    }
   ],
   "source": [
    "# 5.5. Примените функцию mann_whitney_func и сделайте вывод.\n",
    "\n",
    "mann_whitney_func (r1, r2, alpha = 0.05)"
   ]
  },
  {
   "cell_type": "code",
   "execution_count": 220,
   "id": "fff04484",
   "metadata": {},
   "outputs": [
    {
     "name": "stdout",
     "output_type": "stream",
     "text": [
      "Тест М-У: стат. критерий = 362636031.5\n",
      "Тест М-У: pvalue = 5.657905823521255e-09\n",
      "Тест М-У: средние значения в выборках не равны\n"
     ]
    }
   ],
   "source": [
    "mann_whitney_func (r3, r4, alpha = 0.05)"
   ]
  },
  {
   "cell_type": "code",
   "execution_count": 221,
   "id": "abd27803",
   "metadata": {},
   "outputs": [],
   "source": [
    "# 6.1.1. Повторите аналитику из пункта 5 в отношении Москвы. Сделайте выводы."
   ]
  },
  {
   "cell_type": "code",
   "execution_count": 222,
   "id": "5a560cc6",
   "metadata": {},
   "outputs": [],
   "source": [
    "r1_msc =payments_per_client_without_zero_trading_point [ ( (payments_per_client_without_zero_trading_point['city']=='Москва') & (payments_per_client_without_zero_trading_point['nflag_test']== 0 ) ) ] ['sum_amt_payment']\n",
    "r2_msc = payments_per_client_without_zero_trading_point [ ( (payments_per_client_without_zero_trading_point['city']=='Москва') & (payments_per_client_without_zero_trading_point['nflag_test']== 1 ) ) ] ['sum_amt_payment']"
   ]
  },
  {
   "cell_type": "code",
   "execution_count": 223,
   "id": "04c7c57d",
   "metadata": {},
   "outputs": [
    {
     "name": "stdout",
     "output_type": "stream",
     "text": [
      "Т-тест: стат.критерий = -7.676511027843395\n",
      "Т-тест: pvalue = 1.757549439555765e-14\n",
      "Т-тест: средние значения в выборках не равны\n"
     ]
    }
   ],
   "source": [
    "test_calc (r1_msc, r2_msc, alpha = 0.05)"
   ]
  },
  {
   "cell_type": "code",
   "execution_count": 224,
   "id": "7098e20f",
   "metadata": {},
   "outputs": [
    {
     "name": "stdout",
     "output_type": "stream",
     "text": [
      "Тест М-У: стат. критерий = 17582441.5\n",
      "Тест М-У: pvalue = 7.010591402203484e-16\n",
      "Тест М-У: средние значения в выборках не равны\n"
     ]
    }
   ],
   "source": [
    "mann_whitney_func (r1_msc, r2_msc, alpha = 0.05)"
   ]
  },
  {
   "cell_type": "code",
   "execution_count": 225,
   "id": "ed9b0006",
   "metadata": {},
   "outputs": [],
   "source": [
    "r3_msc =payments_per_client_without_zero_trading_point[(payments_per_client_without_zero_trading_point['city']=='Москва') & (payments_per_client_without_zero_trading_point['nflag_test']== 0 )]['flag_payment']\n",
    "r4_msc = payments_per_client_without_zero_trading_point[(payments_per_client_without_zero_trading_point['city']=='Москва') & (payments_per_client_without_zero_trading_point['nflag_test']== 1 )]['flag_payment']"
   ]
  },
  {
   "cell_type": "code",
   "execution_count": 226,
   "id": "406c084f",
   "metadata": {},
   "outputs": [
    {
     "name": "stdout",
     "output_type": "stream",
     "text": [
      "Т-тест: стат.критерий = -6.190312288026295\n",
      "Т-тест: pvalue = 6.194689260032594e-10\n",
      "Т-тест: средние значения в выборках не равны\n"
     ]
    }
   ],
   "source": [
    "test_calc (r3_msc, r4_msc, alpha = 0.05)"
   ]
  },
  {
   "cell_type": "code",
   "execution_count": 227,
   "id": "9e71aea1",
   "metadata": {},
   "outputs": [
    {
     "name": "stdout",
     "output_type": "stream",
     "text": [
      "Тест М-У: стат. критерий = 18028079.0\n",
      "Тест М-У: pvalue = 6.370381156613038e-10\n",
      "Тест М-У: средние значения в выборках не равны\n"
     ]
    }
   ],
   "source": [
    "mann_whitney_func (r3_msc, r4_msc, alpha = 0.05)"
   ]
  },
  {
   "cell_type": "code",
   "execution_count": 228,
   "id": "f6f51f06",
   "metadata": {},
   "outputs": [],
   "source": [
    "# 6.2.1. Повторите аналитику из пункта 5 в отношении Санкт-Петербурга. Сделайте выводы."
   ]
  },
  {
   "cell_type": "code",
   "execution_count": 229,
   "id": "bf6092a8",
   "metadata": {},
   "outputs": [],
   "source": [
    "r1_spb =payments_per_client_without_zero_trading_point[(payments_per_client_without_zero_trading_point['city']=='Санкт-Петербург') & (payments_per_client_without_zero_trading_point['nflag_test']== 0 )]['sum_amt_payment']\n",
    "r2_spb = payments_per_client_without_zero_trading_point[(payments_per_client_without_zero_trading_point['city']=='Санкт-Петербург') & (payments_per_client_without_zero_trading_point['nflag_test']== 1 )]['sum_amt_payment']"
   ]
  },
  {
   "cell_type": "code",
   "execution_count": 230,
   "id": "c4adab5b",
   "metadata": {},
   "outputs": [
    {
     "name": "stdout",
     "output_type": "stream",
     "text": [
      "Т-тест: стат.критерий = -8.759635784179547\n",
      "Т-тест: pvalue = 2.3198088937974163e-18\n",
      "Т-тест: средние значения в выборках не равны\n"
     ]
    }
   ],
   "source": [
    "test_calc (r1_spb, r2_spb, alpha = 0.05)"
   ]
  },
  {
   "cell_type": "code",
   "execution_count": 231,
   "id": "28face65",
   "metadata": {},
   "outputs": [
    {
     "name": "stdout",
     "output_type": "stream",
     "text": [
      "Тест М-У: стат. критерий = 8809444.5\n",
      "Тест М-У: pvalue = 2.0392184217953754e-20\n",
      "Тест М-У: средние значения в выборках не равны\n"
     ]
    }
   ],
   "source": [
    "mann_whitney_func (r1_spb, r2_spb, alpha = 0.05)"
   ]
  },
  {
   "cell_type": "code",
   "execution_count": 232,
   "id": "f7f2e9d9",
   "metadata": {},
   "outputs": [],
   "source": [
    "r3_spb =payments_per_client_without_zero_trading_point[(payments_per_client_without_zero_trading_point['city']=='Санкт-Петербург') & (payments_per_client_without_zero_trading_point['nflag_test']== 0 )]['flag_payment']\n",
    "r4_spb = payments_per_client_without_zero_trading_point[(payments_per_client_without_zero_trading_point['city']=='Санкт-Петербург') & (payments_per_client_without_zero_trading_point['nflag_test']== 1 )]['flag_payment']"
   ]
  },
  {
   "cell_type": "code",
   "execution_count": 233,
   "id": "5d2be1e1",
   "metadata": {},
   "outputs": [
    {
     "name": "stdout",
     "output_type": "stream",
     "text": [
      "Т-тест: стат.критерий = -9.352468686561785\n",
      "Т-тест: pvalue = 1.065825659919673e-20\n",
      "Т-тест: средние значения в выборках не равны\n"
     ]
    }
   ],
   "source": [
    "test_calc (r3_spb, r4_spb, alpha = 0.05)"
   ]
  },
  {
   "cell_type": "code",
   "execution_count": 234,
   "id": "07e7fceb",
   "metadata": {},
   "outputs": [
    {
     "name": "stdout",
     "output_type": "stream",
     "text": [
      "Тест М-У: стат. критерий = 8881151.0\n",
      "Тест М-У: pvalue = 1.3118606823466691e-20\n",
      "Тест М-У: средние значения в выборках не равны\n"
     ]
    }
   ],
   "source": [
    "mann_whitney_func (r3_spb, r4_spb, alpha = 0.05)"
   ]
  },
  {
   "cell_type": "code",
   "execution_count": 235,
   "id": "d1f3c6d8",
   "metadata": {},
   "outputs": [],
   "source": [
    "# 6.3.1. Запустите цикл по оставшимся городам. Проведите такой же анализ."
   ]
  },
  {
   "cell_type": "code",
   "execution_count": 236,
   "id": "ce4b81b9",
   "metadata": {},
   "outputs": [],
   "source": [
    "ppccwztp = payments_per_client_without_zero_trading_point"
   ]
  },
  {
   "cell_type": "code",
   "execution_count": 237,
   "id": "db722f23",
   "metadata": {},
   "outputs": [
    {
     "name": "stdout",
     "output_type": "stream",
     "text": [
      "Великий Новгород\n",
      "Т-тест: стат.критерий = -0.2205874092976028\n",
      "Т-тест: pvalue = 0.8256102434792962\n",
      "Т-тест: средние значения в выборках равны\n",
      "Тест М-У: стат. критерий = 6732.0\n",
      "Тест М-У: pvalue = 0.816213668713835\n",
      "Тест М-У: средние значения в выборках равны\n",
      "\n",
      "Владимир\n",
      "Т-тест: стат.критерий = -2.5769554932923184\n",
      "Т-тест: pvalue = 0.010095112170351712\n",
      "Т-тест: средние значения в выборках не равны\n",
      "Тест М-У: стат. критерий = 143847.0\n",
      "Тест М-У: pvalue = 0.03166761411886426\n",
      "Тест М-У: средние значения в выборках не равны\n",
      "\n",
      "Волгоград\n",
      "Т-тест: стат.критерий = 2.0892718943323443\n",
      "Т-тест: pvalue = 0.03686899928098654\n",
      "Т-тест: средние значения в выборках не равны\n",
      "Тест М-У: стат. критерий = 245743.0\n",
      "Тест М-У: pvalue = 0.03323940159324537\n",
      "Тест М-У: средние значения в выборках не равны\n",
      "\n",
      "Дмитров\n",
      "Т-тест: стат.критерий = -0.3310524347645207\n",
      "Т-тест: pvalue = 0.7410763125801646\n",
      "Т-тест: средние значения в выборках равны\n",
      "Тест М-У: стат. критерий = 2722.0\n",
      "Тест М-У: pvalue = 0.7422551789442879\n",
      "Тест М-У: средние значения в выборках равны\n",
      "\n",
      "Казань\n",
      "Т-тест: стат.критерий = -1.0655273408818378\n",
      "Т-тест: pvalue = 0.286688049247618\n",
      "Т-тест: средние значения в выборках равны\n",
      "Тест М-У: стат. критерий = 3178575.0\n",
      "Тест М-У: pvalue = 0.37726004167062477\n",
      "Тест М-У: средние значения в выборках равны\n",
      "\n",
      "Краснодар\n",
      "Т-тест: стат.критерий = -1.1499685634233776\n",
      "Т-тест: pvalue = 0.2502147737162163\n",
      "Т-тест: средние значения в выборках равны\n",
      "Тест М-У: стат. критерий = 1861253.0\n",
      "Тест М-У: pvalue = 0.23094367751359168\n",
      "Тест М-У: средние значения в выборках равны\n",
      "\n",
      "Красноярск\n",
      "Т-тест: стат.критерий = -0.12000608689929208\n",
      "Т-тест: pvalue = 0.9044823881233125\n",
      "Т-тест: средние значения в выборках равны\n",
      "Тест М-У: стат. критерий = 4413418.0\n",
      "Тест М-У: pvalue = 0.8770469886251647\n",
      "Тест М-У: средние значения в выборках равны\n",
      "\n",
      "Москва\n",
      "Т-тест: стат.критерий = -7.676511027843395\n",
      "Т-тест: pvalue = 1.757549439555765e-14\n",
      "Т-тест: средние значения в выборках не равны\n",
      "Тест М-У: стат. критерий = 17582441.5\n",
      "Тест М-У: pvalue = 7.010591402203484e-16\n",
      "Тест М-У: средние значения в выборках не равны\n",
      "\n",
      "Мурманск\n",
      "Т-тест: стат.критерий = -0.06902498862889384\n",
      "Т-тест: pvalue = 0.9449762446327565\n",
      "Т-тест: средние значения в выборках равны\n",
      "Тест М-У: стат. критерий = 554067.5\n",
      "Тест М-У: pvalue = 0.5434251528583327\n",
      "Тест М-У: средние значения в выборках равны\n",
      "\n",
      "Нижний Новгород\n",
      "Т-тест: стат.критерий = 1.180381286802843\n",
      "Т-тест: pvalue = 0.23881587049495978\n",
      "Т-тест: средние значения в выборках равны\n",
      "Тест М-У: стат. критерий = 11575.0\n",
      "Тест М-У: pvalue = 0.16861458593517797\n",
      "Тест М-У: средние значения в выборках равны\n",
      "\n",
      "Новосибирск\n",
      "Т-тест: стат.критерий = -3.4631128428326985\n",
      "Т-тест: pvalue = 0.0005382801056204593\n",
      "Т-тест: средние значения в выборках не равны\n",
      "Тест М-У: стат. критерий = 2997351.0\n",
      "Тест М-У: pvalue = 2.3393918439205915e-05\n",
      "Тест М-У: средние значения в выборках не равны\n",
      "\n",
      "Самара\n",
      "Т-тест: стат.критерий = -11.54083248253458\n",
      "Т-тест: pvalue = 1.1014020778472052e-29\n",
      "Т-тест: средние значения в выборках не равны\n",
      "Тест М-У: стат. критерий = 233516.5\n",
      "Тест М-У: pvalue = 4.325201867794148e-30\n",
      "Тест М-У: средние значения в выборках не равны\n",
      "\n",
      "Санкт-Петербург\n",
      "Т-тест: стат.критерий = -8.759635784179547\n",
      "Т-тест: pvalue = 2.3198088937974163e-18\n",
      "Т-тест: средние значения в выборках не равны\n",
      "Тест М-У: стат. критерий = 8809444.5\n",
      "Тест М-У: pvalue = 2.0392184217953754e-20\n",
      "Тест М-У: средние значения в выборках не равны\n",
      "\n",
      "Саратов\n",
      "Т-тест: стат.критерий = 0.10516947629572568\n",
      "Т-тест: pvalue = 0.9162512798549167\n",
      "Т-тест: средние значения в выборках равны\n",
      "Тест М-У: стат. критерий = 557976.5\n",
      "Тест М-У: pvalue = 0.7833257779753139\n",
      "Тест М-У: средние значения в выборках равны\n",
      "\n",
      "Сахалинск\n",
      "Т-тест: стат.критерий = -1.6270604929283117\n",
      "Т-тест: pvalue = 0.10580921254927302\n",
      "Т-тест: средние значения в выборках равны\n",
      "Тест М-У: стат. критерий = 2690.5\n",
      "Тест М-У: pvalue = 0.19868569514015844\n",
      "Тест М-У: средние значения в выборках равны\n",
      "\n",
      "Сочи\n",
      "Т-тест: стат.критерий = 1.5432162776667724\n",
      "Т-тест: pvalue = 0.12297605685687812\n",
      "Т-тест: средние значения в выборках равны\n",
      "Тест М-У: стат. критерий = 337587.5\n",
      "Тест М-У: pvalue = 0.05698257474271896\n",
      "Тест М-У: средние значения в выборках равны\n",
      "\n",
      "Тольятти\n",
      "Т-тест: стат.критерий = -1.5045563456740754\n",
      "Т-тест: pvalue = 0.1333273246710206\n",
      "Т-тест: средние значения в выборках равны\n",
      "Тест М-У: стат. критерий = 14709.5\n",
      "Тест М-У: pvalue = 0.22134177144014489\n",
      "Тест М-У: средние значения в выборках равны\n",
      "\n",
      "Тюмень\n",
      "Т-тест: стат.критерий = -0.9264590634677944\n",
      "Т-тест: pvalue = 0.3550227648604757\n",
      "Т-тест: средние значения в выборках равны\n",
      "Тест М-У: стат. критерий = 8239.0\n",
      "Тест М-У: pvalue = 0.038066216007540725\n",
      "Тест М-У: средние значения в выборках не равны\n",
      "\n",
      "Ярославль\n",
      "Т-тест: стат.критерий = 20.320571854948493\n",
      "Т-тест: pvalue = 4.9011004367076225e-78\n",
      "Т-тест: средние значения в выборках не равны\n",
      "Тест М-У: стат. критерий = 228927.0\n",
      "Тест М-У: pvalue = 7.664284737629746e-91\n",
      "Тест М-У: средние значения в выборках не равны\n",
      "\n"
     ]
    }
   ],
   "source": [
    "for i, j in ppccwztp.groupby('city'):\n",
    "    print (i)\n",
    "    test_calc (j [j ['nflag_test'] == 0]['sum_amt_payment'],\n",
    "               j [j ['nflag_test'] == 1]['sum_amt_payment'],\n",
    "               alpha = 0.05)\n",
    "    mann_whitney_func (j [j ['nflag_test'] == 0]['sum_amt_payment'],\n",
    "                       j [j ['nflag_test'] == 1]['sum_amt_payment'],\n",
    "                       alpha = 0.05)\n",
    "    print()"
   ]
  },
  {
   "cell_type": "code",
   "execution_count": 238,
   "id": "7e8bed96",
   "metadata": {},
   "outputs": [],
   "source": [
    "# 7. Создание таблицы df_res\n",
    "# Поля таблицы должны быть следующими:\n",
    "# city - город\n",
    "# id_trading_point  - уникальный идентификатор торговой точки, к которой прикреплен данный пользователь\n",
    "# count_test - кол-во наблюдений в тестовой группе\n",
    "# count_control - кол-во наблюдений в контрольной группе\n",
    "# count_all - суммарное кол-во наблюдений\n",
    "# percent_count - процент кол-ва наблюдений данной ТТ от всех наблюдений\n",
    "# avg_payment_test - средний платеж в тестовой группе\n",
    "# avg_payment_control - средний платеж в контрольной группе\n",
    "# diff - разница между средними платежами\n",
    "# sigma_test - стандартное отклонение платежей в тестовой группе\n",
    "# sigma_control - стандартное отклонение платежей в контрольной группе\n",
    "# ttest - значение статистического критерия (критерий Стьюдента для сравнения средних платежей)\n",
    "# pvalue_ttest - pvalue статистического критерия (критерий Стьюдента для сравнения средних платежей)"
   ]
  },
  {
   "cell_type": "code",
   "execution_count": 239,
   "id": "6b766483",
   "metadata": {},
   "outputs": [],
   "source": [
    "ppccwztp = payments_per_client_without_zero_trading_point"
   ]
  },
  {
   "cell_type": "code",
   "execution_count": 240,
   "id": "37a6a2af",
   "metadata": {},
   "outputs": [],
   "source": [
    "df = pd.DataFrame(columns=['city',\n",
    "                           'id_trading_point',\n",
    "                           'count_test',\n",
    "                           'count_control',\n",
    "                           'count_all',\n",
    "                           'percent_count',\n",
    "                           'avg_payment_test',\n",
    "                           'avg_payment_control',\n",
    "                           'diff',\n",
    "                           'sigma_test',\n",
    "                           'sigma_control',\n",
    "                           'ttest',\n",
    "                           'pvalue_ttest',\n",
    "                           'label'\n",
    "                           ])"
   ]
  },
  {
   "cell_type": "code",
   "execution_count": 249,
   "id": "b10956b8",
   "metadata": {},
   "outputs": [
    {
     "name": "stderr",
     "output_type": "stream",
     "text": [
      "C:\\Users\\MDi\\AppData\\Local\\Temp\\ipykernel_11772\\3186961076.py:25: FutureWarning: The frame.append method is deprecated and will be removed from pandas in a future version. Use pandas.concat instead.\n",
      "  df = df.append({'city': city,\n",
      "C:\\Users\\MDi\\AppData\\Local\\Temp\\ipykernel_11772\\3186961076.py:25: FutureWarning: The frame.append method is deprecated and will be removed from pandas in a future version. Use pandas.concat instead.\n",
      "  df = df.append({'city': city,\n",
      "C:\\Users\\MDi\\AppData\\Local\\Temp\\ipykernel_11772\\3186961076.py:25: FutureWarning: The frame.append method is deprecated and will be removed from pandas in a future version. Use pandas.concat instead.\n",
      "  df = df.append({'city': city,\n",
      "C:\\Users\\MDi\\AppData\\Local\\Temp\\ipykernel_11772\\3186961076.py:25: FutureWarning: The frame.append method is deprecated and will be removed from pandas in a future version. Use pandas.concat instead.\n",
      "  df = df.append({'city': city,\n",
      "C:\\Users\\MDi\\AppData\\Local\\Temp\\ipykernel_11772\\3186961076.py:25: FutureWarning: The frame.append method is deprecated and will be removed from pandas in a future version. Use pandas.concat instead.\n",
      "  df = df.append({'city': city,\n",
      "C:\\Users\\MDi\\AppData\\Local\\Temp\\ipykernel_11772\\3186961076.py:25: FutureWarning: The frame.append method is deprecated and will be removed from pandas in a future version. Use pandas.concat instead.\n",
      "  df = df.append({'city': city,\n",
      "C:\\Users\\MDi\\AppData\\Local\\Temp\\ipykernel_11772\\3186961076.py:25: FutureWarning: The frame.append method is deprecated and will be removed from pandas in a future version. Use pandas.concat instead.\n",
      "  df = df.append({'city': city,\n",
      "C:\\Users\\MDi\\AppData\\Local\\Temp\\ipykernel_11772\\3186961076.py:25: FutureWarning: The frame.append method is deprecated and will be removed from pandas in a future version. Use pandas.concat instead.\n",
      "  df = df.append({'city': city,\n",
      "C:\\Users\\MDi\\AppData\\Local\\Temp\\ipykernel_11772\\3186961076.py:25: FutureWarning: The frame.append method is deprecated and will be removed from pandas in a future version. Use pandas.concat instead.\n",
      "  df = df.append({'city': city,\n",
      "C:\\Users\\MDi\\AppData\\Local\\Temp\\ipykernel_11772\\3186961076.py:25: FutureWarning: The frame.append method is deprecated and will be removed from pandas in a future version. Use pandas.concat instead.\n",
      "  df = df.append({'city': city,\n",
      "C:\\Users\\MDi\\AppData\\Local\\Temp\\ipykernel_11772\\3186961076.py:25: FutureWarning: The frame.append method is deprecated and will be removed from pandas in a future version. Use pandas.concat instead.\n",
      "  df = df.append({'city': city,\n",
      "C:\\Users\\MDi\\AppData\\Local\\Temp\\ipykernel_11772\\3186961076.py:25: FutureWarning: The frame.append method is deprecated and will be removed from pandas in a future version. Use pandas.concat instead.\n",
      "  df = df.append({'city': city,\n",
      "C:\\Users\\MDi\\AppData\\Local\\Temp\\ipykernel_11772\\3186961076.py:25: FutureWarning: The frame.append method is deprecated and will be removed from pandas in a future version. Use pandas.concat instead.\n",
      "  df = df.append({'city': city,\n",
      "C:\\Users\\MDi\\AppData\\Local\\Temp\\ipykernel_11772\\3186961076.py:25: FutureWarning: The frame.append method is deprecated and will be removed from pandas in a future version. Use pandas.concat instead.\n",
      "  df = df.append({'city': city,\n",
      "C:\\Users\\MDi\\AppData\\Local\\Temp\\ipykernel_11772\\3186961076.py:25: FutureWarning: The frame.append method is deprecated and will be removed from pandas in a future version. Use pandas.concat instead.\n",
      "  df = df.append({'city': city,\n",
      "C:\\Users\\MDi\\AppData\\Local\\Temp\\ipykernel_11772\\3186961076.py:25: FutureWarning: The frame.append method is deprecated and will be removed from pandas in a future version. Use pandas.concat instead.\n",
      "  df = df.append({'city': city,\n",
      "C:\\Users\\MDi\\AppData\\Local\\Temp\\ipykernel_11772\\3186961076.py:25: FutureWarning: The frame.append method is deprecated and will be removed from pandas in a future version. Use pandas.concat instead.\n",
      "  df = df.append({'city': city,\n",
      "C:\\Users\\MDi\\AppData\\Local\\Temp\\ipykernel_11772\\3186961076.py:25: FutureWarning: The frame.append method is deprecated and will be removed from pandas in a future version. Use pandas.concat instead.\n",
      "  df = df.append({'city': city,\n",
      "C:\\Users\\MDi\\AppData\\Local\\Temp\\ipykernel_11772\\3186961076.py:25: FutureWarning: The frame.append method is deprecated and will be removed from pandas in a future version. Use pandas.concat instead.\n",
      "  df = df.append({'city': city,\n",
      "C:\\Users\\MDi\\AppData\\Local\\Temp\\ipykernel_11772\\3186961076.py:25: FutureWarning: The frame.append method is deprecated and will be removed from pandas in a future version. Use pandas.concat instead.\n",
      "  df = df.append({'city': city,\n",
      "C:\\Users\\MDi\\AppData\\Local\\Temp\\ipykernel_11772\\3186961076.py:25: FutureWarning: The frame.append method is deprecated and will be removed from pandas in a future version. Use pandas.concat instead.\n",
      "  df = df.append({'city': city,\n",
      "C:\\Users\\MDi\\AppData\\Local\\Temp\\ipykernel_11772\\3186961076.py:25: FutureWarning: The frame.append method is deprecated and will be removed from pandas in a future version. Use pandas.concat instead.\n",
      "  df = df.append({'city': city,\n",
      "C:\\Users\\MDi\\AppData\\Local\\Temp\\ipykernel_11772\\3186961076.py:25: FutureWarning: The frame.append method is deprecated and will be removed from pandas in a future version. Use pandas.concat instead.\n",
      "  df = df.append({'city': city,\n",
      "C:\\Users\\MDi\\AppData\\Local\\Temp\\ipykernel_11772\\3186961076.py:25: FutureWarning: The frame.append method is deprecated and will be removed from pandas in a future version. Use pandas.concat instead.\n",
      "  df = df.append({'city': city,\n",
      "C:\\Users\\MDi\\AppData\\Local\\Temp\\ipykernel_11772\\3186961076.py:25: FutureWarning: The frame.append method is deprecated and will be removed from pandas in a future version. Use pandas.concat instead.\n",
      "  df = df.append({'city': city,\n",
      "C:\\Users\\MDi\\AppData\\Local\\Temp\\ipykernel_11772\\3186961076.py:25: FutureWarning: The frame.append method is deprecated and will be removed from pandas in a future version. Use pandas.concat instead.\n",
      "  df = df.append({'city': city,\n",
      "C:\\Users\\MDi\\AppData\\Local\\Temp\\ipykernel_11772\\3186961076.py:25: FutureWarning: The frame.append method is deprecated and will be removed from pandas in a future version. Use pandas.concat instead.\n",
      "  df = df.append({'city': city,\n",
      "C:\\Users\\MDi\\AppData\\Local\\Temp\\ipykernel_11772\\3186961076.py:25: FutureWarning: The frame.append method is deprecated and will be removed from pandas in a future version. Use pandas.concat instead.\n",
      "  df = df.append({'city': city,\n",
      "C:\\Users\\MDi\\AppData\\Local\\Temp\\ipykernel_11772\\3186961076.py:25: FutureWarning: The frame.append method is deprecated and will be removed from pandas in a future version. Use pandas.concat instead.\n",
      "  df = df.append({'city': city,\n",
      "C:\\Users\\MDi\\AppData\\Local\\Temp\\ipykernel_11772\\3186961076.py:25: FutureWarning: The frame.append method is deprecated and will be removed from pandas in a future version. Use pandas.concat instead.\n",
      "  df = df.append({'city': city,\n",
      "C:\\Users\\MDi\\AppData\\Local\\Temp\\ipykernel_11772\\3186961076.py:25: FutureWarning: The frame.append method is deprecated and will be removed from pandas in a future version. Use pandas.concat instead.\n",
      "  df = df.append({'city': city,\n",
      "C:\\Users\\MDi\\AppData\\Local\\Temp\\ipykernel_11772\\3186961076.py:25: FutureWarning: The frame.append method is deprecated and will be removed from pandas in a future version. Use pandas.concat instead.\n",
      "  df = df.append({'city': city,\n",
      "C:\\Users\\MDi\\AppData\\Local\\Temp\\ipykernel_11772\\3186961076.py:25: FutureWarning: The frame.append method is deprecated and will be removed from pandas in a future version. Use pandas.concat instead.\n",
      "  df = df.append({'city': city,\n",
      "C:\\Users\\MDi\\AppData\\Local\\Temp\\ipykernel_11772\\3186961076.py:25: FutureWarning: The frame.append method is deprecated and will be removed from pandas in a future version. Use pandas.concat instead.\n",
      "  df = df.append({'city': city,\n",
      "C:\\Users\\MDi\\AppData\\Local\\Temp\\ipykernel_11772\\3186961076.py:25: FutureWarning: The frame.append method is deprecated and will be removed from pandas in a future version. Use pandas.concat instead.\n",
      "  df = df.append({'city': city,\n",
      "C:\\Users\\MDi\\AppData\\Local\\Temp\\ipykernel_11772\\3186961076.py:25: FutureWarning: The frame.append method is deprecated and will be removed from pandas in a future version. Use pandas.concat instead.\n",
      "  df = df.append({'city': city,\n"
     ]
    },
    {
     "name": "stderr",
     "output_type": "stream",
     "text": [
      "C:\\Users\\MDi\\AppData\\Local\\Temp\\ipykernel_11772\\3186961076.py:25: FutureWarning: The frame.append method is deprecated and will be removed from pandas in a future version. Use pandas.concat instead.\n",
      "  df = df.append({'city': city,\n",
      "C:\\Users\\MDi\\AppData\\Local\\Temp\\ipykernel_11772\\3186961076.py:25: FutureWarning: The frame.append method is deprecated and will be removed from pandas in a future version. Use pandas.concat instead.\n",
      "  df = df.append({'city': city,\n",
      "C:\\Users\\MDi\\AppData\\Local\\Temp\\ipykernel_11772\\3186961076.py:25: FutureWarning: The frame.append method is deprecated and will be removed from pandas in a future version. Use pandas.concat instead.\n",
      "  df = df.append({'city': city,\n",
      "C:\\Users\\MDi\\AppData\\Local\\Temp\\ipykernel_11772\\3186961076.py:25: FutureWarning: The frame.append method is deprecated and will be removed from pandas in a future version. Use pandas.concat instead.\n",
      "  df = df.append({'city': city,\n",
      "C:\\Users\\MDi\\AppData\\Local\\Temp\\ipykernel_11772\\3186961076.py:25: FutureWarning: The frame.append method is deprecated and will be removed from pandas in a future version. Use pandas.concat instead.\n",
      "  df = df.append({'city': city,\n",
      "C:\\Users\\MDi\\AppData\\Local\\Temp\\ipykernel_11772\\3186961076.py:25: FutureWarning: The frame.append method is deprecated and will be removed from pandas in a future version. Use pandas.concat instead.\n",
      "  df = df.append({'city': city,\n",
      "C:\\Users\\MDi\\AppData\\Local\\Temp\\ipykernel_11772\\3186961076.py:25: FutureWarning: The frame.append method is deprecated and will be removed from pandas in a future version. Use pandas.concat instead.\n",
      "  df = df.append({'city': city,\n",
      "C:\\Users\\MDi\\AppData\\Local\\Temp\\ipykernel_11772\\3186961076.py:25: FutureWarning: The frame.append method is deprecated and will be removed from pandas in a future version. Use pandas.concat instead.\n",
      "  df = df.append({'city': city,\n",
      "C:\\Users\\MDi\\AppData\\Local\\Temp\\ipykernel_11772\\3186961076.py:25: FutureWarning: The frame.append method is deprecated and will be removed from pandas in a future version. Use pandas.concat instead.\n",
      "  df = df.append({'city': city,\n",
      "C:\\Users\\MDi\\AppData\\Local\\Temp\\ipykernel_11772\\3186961076.py:25: FutureWarning: The frame.append method is deprecated and will be removed from pandas in a future version. Use pandas.concat instead.\n",
      "  df = df.append({'city': city,\n",
      "C:\\Users\\MDi\\AppData\\Local\\Temp\\ipykernel_11772\\3186961076.py:25: FutureWarning: The frame.append method is deprecated and will be removed from pandas in a future version. Use pandas.concat instead.\n",
      "  df = df.append({'city': city,\n",
      "C:\\Users\\MDi\\AppData\\Local\\Temp\\ipykernel_11772\\3186961076.py:25: FutureWarning: The frame.append method is deprecated and will be removed from pandas in a future version. Use pandas.concat instead.\n",
      "  df = df.append({'city': city,\n",
      "C:\\Users\\MDi\\AppData\\Local\\Temp\\ipykernel_11772\\3186961076.py:25: FutureWarning: The frame.append method is deprecated and will be removed from pandas in a future version. Use pandas.concat instead.\n",
      "  df = df.append({'city': city,\n",
      "C:\\Users\\MDi\\AppData\\Local\\Temp\\ipykernel_11772\\3186961076.py:25: FutureWarning: The frame.append method is deprecated and will be removed from pandas in a future version. Use pandas.concat instead.\n",
      "  df = df.append({'city': city,\n",
      "C:\\Users\\MDi\\AppData\\Local\\Temp\\ipykernel_11772\\3186961076.py:25: FutureWarning: The frame.append method is deprecated and will be removed from pandas in a future version. Use pandas.concat instead.\n",
      "  df = df.append({'city': city,\n",
      "C:\\Users\\MDi\\AppData\\Local\\Temp\\ipykernel_11772\\3186961076.py:25: FutureWarning: The frame.append method is deprecated and will be removed from pandas in a future version. Use pandas.concat instead.\n",
      "  df = df.append({'city': city,\n",
      "C:\\Users\\MDi\\AppData\\Local\\Temp\\ipykernel_11772\\3186961076.py:25: FutureWarning: The frame.append method is deprecated and will be removed from pandas in a future version. Use pandas.concat instead.\n",
      "  df = df.append({'city': city,\n",
      "C:\\Users\\MDi\\AppData\\Local\\Temp\\ipykernel_11772\\3186961076.py:25: FutureWarning: The frame.append method is deprecated and will be removed from pandas in a future version. Use pandas.concat instead.\n",
      "  df = df.append({'city': city,\n",
      "C:\\Users\\MDi\\AppData\\Local\\Temp\\ipykernel_11772\\3186961076.py:25: FutureWarning: The frame.append method is deprecated and will be removed from pandas in a future version. Use pandas.concat instead.\n",
      "  df = df.append({'city': city,\n",
      "C:\\Users\\MDi\\AppData\\Local\\Temp\\ipykernel_11772\\3186961076.py:25: FutureWarning: The frame.append method is deprecated and will be removed from pandas in a future version. Use pandas.concat instead.\n",
      "  df = df.append({'city': city,\n",
      "C:\\Users\\MDi\\AppData\\Local\\Temp\\ipykernel_11772\\3186961076.py:25: FutureWarning: The frame.append method is deprecated and will be removed from pandas in a future version. Use pandas.concat instead.\n",
      "  df = df.append({'city': city,\n",
      "C:\\Users\\MDi\\AppData\\Local\\Temp\\ipykernel_11772\\3186961076.py:25: FutureWarning: The frame.append method is deprecated and will be removed from pandas in a future version. Use pandas.concat instead.\n",
      "  df = df.append({'city': city,\n",
      "C:\\Users\\MDi\\AppData\\Local\\Temp\\ipykernel_11772\\3186961076.py:25: FutureWarning: The frame.append method is deprecated and will be removed from pandas in a future version. Use pandas.concat instead.\n",
      "  df = df.append({'city': city,\n",
      "C:\\Users\\MDi\\AppData\\Local\\Temp\\ipykernel_11772\\3186961076.py:25: FutureWarning: The frame.append method is deprecated and will be removed from pandas in a future version. Use pandas.concat instead.\n",
      "  df = df.append({'city': city,\n",
      "C:\\Users\\MDi\\AppData\\Local\\Temp\\ipykernel_11772\\3186961076.py:25: FutureWarning: The frame.append method is deprecated and will be removed from pandas in a future version. Use pandas.concat instead.\n",
      "  df = df.append({'city': city,\n",
      "C:\\Users\\MDi\\AppData\\Local\\Temp\\ipykernel_11772\\3186961076.py:25: FutureWarning: The frame.append method is deprecated and will be removed from pandas in a future version. Use pandas.concat instead.\n",
      "  df = df.append({'city': city,\n"
     ]
    }
   ],
   "source": [
    "for city, city_data in ppccwztp.groupby('city'):\n",
    "    for trading_point, trading_point_data in city_data.groupby('id_trading_point'):\n",
    "        count_test = trading_point_data ['nflag_test'].sum()\n",
    "        count_control = trading_point_data ['nflag_test'].count() - count_test\n",
    "        count_all = trading_point_data ['nflag_test'].count()\n",
    "        percent_count = count_test / count_all\n",
    "        avg_payment_test = trading_point_data [trading_point_data['nflag_test'] == 1]['sum_amt_payment'].mean()\n",
    "        avg_payment_control = trading_point_data[trading_point_data['nflag_test'] == 0]['sum_amt_payment'].mean()\n",
    "        diff = avg_payment_test - avg_payment_control\n",
    "        sigma_test = trading_point_data[trading_point_data['nflag_test'] == 1]['sum_amt_payment'].std()\n",
    "        sigma_control = trading_point_data[trading_point_data['nflag_test'] == 0]['sum_amt_payment'].std()\n",
    "\n",
    "        ttest_result = stats.ttest_ind (trading_point_data [trading_point_data ['nflag_test'] == 0]['sum_amt_payment'],\n",
    "                                       trading_point_data [trading_point_data ['nflag_test'] == 1]['sum_amt_payment'])\n",
    "        ttest_statistic = ttest_result.statistic\n",
    "        pvalue_ttest = ttest_result.pvalue\n",
    "        label = ''\n",
    "        if diff > 0 and pvalue_ttest < 0.05:\n",
    "            label = 'положительный исход'\n",
    "        elif diff < 0 and pvalue_ttest < 0.05:\n",
    "            label = 'отрицательный исход'\n",
    "        else:\n",
    "            label = 'нейтральный исход'\n",
    "        \n",
    "        df = df.append({'city': city,\n",
    "                        'id_trading_point': trading_point,\n",
    "                        'count_test': count_test,\n",
    "                        'count_control': count_control,\n",
    "                        'count_all': count_all,\n",
    "                        'percent_count': percent_count,\n",
    "                        'avg_payment_test': avg_payment_test,\n",
    "                        'avg_payment_control': avg_payment_control,\n",
    "                        'diff': diff,\n",
    "                        'sigma_test': sigma_test,\n",
    "                        'sigma_control': sigma_control,\n",
    "                        'ttest': ttest_statistic,\n",
    "                        'pvalue_ttest': pvalue_ttest,\n",
    "                        'label':label}, ignore_index=True)"
   ]
  },
  {
   "cell_type": "code",
   "execution_count": 242,
   "id": "cb45ed43",
   "metadata": {},
   "outputs": [
    {
     "data": {
      "text/html": [
       "<div>\n",
       "<style scoped>\n",
       "    .dataframe tbody tr th:only-of-type {\n",
       "        vertical-align: middle;\n",
       "    }\n",
       "\n",
       "    .dataframe tbody tr th {\n",
       "        vertical-align: top;\n",
       "    }\n",
       "\n",
       "    .dataframe thead th {\n",
       "        text-align: right;\n",
       "    }\n",
       "</style>\n",
       "<table border=\"1\" class=\"dataframe\">\n",
       "  <thead>\n",
       "    <tr style=\"text-align: right;\">\n",
       "      <th></th>\n",
       "      <th>city</th>\n",
       "      <th>id_trading_point</th>\n",
       "      <th>count_test</th>\n",
       "      <th>count_control</th>\n",
       "      <th>count_all</th>\n",
       "      <th>percent_count</th>\n",
       "      <th>avg_payment_test</th>\n",
       "      <th>avg_payment_control</th>\n",
       "      <th>diff</th>\n",
       "      <th>sigma_test</th>\n",
       "      <th>sigma_control</th>\n",
       "      <th>ttest</th>\n",
       "      <th>pvalue_ttest</th>\n",
       "      <th>label</th>\n",
       "    </tr>\n",
       "  </thead>\n",
       "  <tbody>\n",
       "    <tr>\n",
       "      <th>0</th>\n",
       "      <td>Великий Новгород</td>\n",
       "      <td>23</td>\n",
       "      <td>124</td>\n",
       "      <td>107</td>\n",
       "      <td>231</td>\n",
       "      <td>0.536797</td>\n",
       "      <td>1384.629032</td>\n",
       "      <td>1315.981308</td>\n",
       "      <td>68.647724</td>\n",
       "      <td>2471.691776</td>\n",
       "      <td>2220.010713</td>\n",
       "      <td>-0.220587</td>\n",
       "      <td>8.256102e-01</td>\n",
       "      <td>нейтральный исход</td>\n",
       "    </tr>\n",
       "    <tr>\n",
       "      <th>1</th>\n",
       "      <td>Владимир</td>\n",
       "      <td>11</td>\n",
       "      <td>509</td>\n",
       "      <td>608</td>\n",
       "      <td>1117</td>\n",
       "      <td>0.455685</td>\n",
       "      <td>2547.220039</td>\n",
       "      <td>2108.610197</td>\n",
       "      <td>438.609842</td>\n",
       "      <td>3023.702164</td>\n",
       "      <td>2663.038392</td>\n",
       "      <td>-2.576955</td>\n",
       "      <td>1.009511e-02</td>\n",
       "      <td>положительный исход</td>\n",
       "    </tr>\n",
       "    <tr>\n",
       "      <th>2</th>\n",
       "      <td>Волгоград</td>\n",
       "      <td>66</td>\n",
       "      <td>657</td>\n",
       "      <td>703</td>\n",
       "      <td>1360</td>\n",
       "      <td>0.483088</td>\n",
       "      <td>2288.870624</td>\n",
       "      <td>2601.761024</td>\n",
       "      <td>-312.890400</td>\n",
       "      <td>2682.567610</td>\n",
       "      <td>2830.193773</td>\n",
       "      <td>2.089272</td>\n",
       "      <td>3.686900e-02</td>\n",
       "      <td>отрицательный исход</td>\n",
       "    </tr>\n",
       "    <tr>\n",
       "      <th>3</th>\n",
       "      <td>Дмитров</td>\n",
       "      <td>2</td>\n",
       "      <td>78</td>\n",
       "      <td>71</td>\n",
       "      <td>149</td>\n",
       "      <td>0.523490</td>\n",
       "      <td>579.333333</td>\n",
       "      <td>483.450704</td>\n",
       "      <td>95.882629</td>\n",
       "      <td>1860.762430</td>\n",
       "      <td>1654.923182</td>\n",
       "      <td>-0.331052</td>\n",
       "      <td>7.410763e-01</td>\n",
       "      <td>нейтральный исход</td>\n",
       "    </tr>\n",
       "    <tr>\n",
       "      <th>4</th>\n",
       "      <td>Казань</td>\n",
       "      <td>439</td>\n",
       "      <td>355</td>\n",
       "      <td>351</td>\n",
       "      <td>706</td>\n",
       "      <td>0.502833</td>\n",
       "      <td>2481.960563</td>\n",
       "      <td>2400.635328</td>\n",
       "      <td>81.325236</td>\n",
       "      <td>4040.441007</td>\n",
       "      <td>3722.117072</td>\n",
       "      <td>-0.278067</td>\n",
       "      <td>7.810423e-01</td>\n",
       "      <td>нейтральный исход</td>\n",
       "    </tr>\n",
       "    <tr>\n",
       "      <th>...</th>\n",
       "      <td>...</td>\n",
       "      <td>...</td>\n",
       "      <td>...</td>\n",
       "      <td>...</td>\n",
       "      <td>...</td>\n",
       "      <td>...</td>\n",
       "      <td>...</td>\n",
       "      <td>...</td>\n",
       "      <td>...</td>\n",
       "      <td>...</td>\n",
       "      <td>...</td>\n",
       "      <td>...</td>\n",
       "      <td>...</td>\n",
       "      <td>...</td>\n",
       "    </tr>\n",
       "    <tr>\n",
       "      <th>57</th>\n",
       "      <td>Сочи</td>\n",
       "      <td>72</td>\n",
       "      <td>609</td>\n",
       "      <td>639</td>\n",
       "      <td>1248</td>\n",
       "      <td>0.487981</td>\n",
       "      <td>2371.433498</td>\n",
       "      <td>2523.375587</td>\n",
       "      <td>-151.942089</td>\n",
       "      <td>2906.824458</td>\n",
       "      <td>2795.917176</td>\n",
       "      <td>0.941234</td>\n",
       "      <td>3.467676e-01</td>\n",
       "      <td>нейтральный исход</td>\n",
       "    </tr>\n",
       "    <tr>\n",
       "      <th>58</th>\n",
       "      <td>Сочи</td>\n",
       "      <td>73</td>\n",
       "      <td>187</td>\n",
       "      <td>167</td>\n",
       "      <td>354</td>\n",
       "      <td>0.528249</td>\n",
       "      <td>2092.181818</td>\n",
       "      <td>2521.958084</td>\n",
       "      <td>-429.776266</td>\n",
       "      <td>2530.274648</td>\n",
       "      <td>2875.459633</td>\n",
       "      <td>1.495845</td>\n",
       "      <td>1.355901e-01</td>\n",
       "      <td>нейтральный исход</td>\n",
       "    </tr>\n",
       "    <tr>\n",
       "      <th>59</th>\n",
       "      <td>Тольятти</td>\n",
       "      <td>88</td>\n",
       "      <td>190</td>\n",
       "      <td>167</td>\n",
       "      <td>357</td>\n",
       "      <td>0.532213</td>\n",
       "      <td>2902.410526</td>\n",
       "      <td>2439.461078</td>\n",
       "      <td>462.949448</td>\n",
       "      <td>3074.648887</td>\n",
       "      <td>2689.343053</td>\n",
       "      <td>-1.504556</td>\n",
       "      <td>1.333273e-01</td>\n",
       "      <td>нейтральный исход</td>\n",
       "    </tr>\n",
       "    <tr>\n",
       "      <th>60</th>\n",
       "      <td>Тюмень</td>\n",
       "      <td>19</td>\n",
       "      <td>130</td>\n",
       "      <td>146</td>\n",
       "      <td>276</td>\n",
       "      <td>0.471014</td>\n",
       "      <td>2043.823077</td>\n",
       "      <td>1743.376712</td>\n",
       "      <td>300.446365</td>\n",
       "      <td>2442.266788</td>\n",
       "      <td>2891.333359</td>\n",
       "      <td>-0.926459</td>\n",
       "      <td>3.550228e-01</td>\n",
       "      <td>нейтральный исход</td>\n",
       "    </tr>\n",
       "    <tr>\n",
       "      <th>61</th>\n",
       "      <td>Ярославль</td>\n",
       "      <td>46</td>\n",
       "      <td>557</td>\n",
       "      <td>529</td>\n",
       "      <td>1086</td>\n",
       "      <td>0.512891</td>\n",
       "      <td>0.000000</td>\n",
       "      <td>2359.013233</td>\n",
       "      <td>-2359.013233</td>\n",
       "      <td>0.000000</td>\n",
       "      <td>2739.887003</td>\n",
       "      <td>20.320572</td>\n",
       "      <td>4.901100e-78</td>\n",
       "      <td>отрицательный исход</td>\n",
       "    </tr>\n",
       "  </tbody>\n",
       "</table>\n",
       "<p>62 rows × 14 columns</p>\n",
       "</div>"
      ],
      "text/plain": [
       "                city id_trading_point count_test count_control count_all  \\\n",
       "0   Великий Новгород               23        124           107       231   \n",
       "1           Владимир               11        509           608      1117   \n",
       "2          Волгоград               66        657           703      1360   \n",
       "3            Дмитров                2         78            71       149   \n",
       "4             Казань              439        355           351       706   \n",
       "..               ...              ...        ...           ...       ...   \n",
       "57              Сочи               72        609           639      1248   \n",
       "58              Сочи               73        187           167       354   \n",
       "59          Тольятти               88        190           167       357   \n",
       "60            Тюмень               19        130           146       276   \n",
       "61         Ярославль               46        557           529      1086   \n",
       "\n",
       "    percent_count  avg_payment_test  avg_payment_control         diff  \\\n",
       "0        0.536797       1384.629032          1315.981308    68.647724   \n",
       "1        0.455685       2547.220039          2108.610197   438.609842   \n",
       "2        0.483088       2288.870624          2601.761024  -312.890400   \n",
       "3        0.523490        579.333333           483.450704    95.882629   \n",
       "4        0.502833       2481.960563          2400.635328    81.325236   \n",
       "..            ...               ...                  ...          ...   \n",
       "57       0.487981       2371.433498          2523.375587  -151.942089   \n",
       "58       0.528249       2092.181818          2521.958084  -429.776266   \n",
       "59       0.532213       2902.410526          2439.461078   462.949448   \n",
       "60       0.471014       2043.823077          1743.376712   300.446365   \n",
       "61       0.512891          0.000000          2359.013233 -2359.013233   \n",
       "\n",
       "     sigma_test  sigma_control      ttest  pvalue_ttest                label  \n",
       "0   2471.691776    2220.010713  -0.220587  8.256102e-01    нейтральный исход  \n",
       "1   3023.702164    2663.038392  -2.576955  1.009511e-02  положительный исход  \n",
       "2   2682.567610    2830.193773   2.089272  3.686900e-02  отрицательный исход  \n",
       "3   1860.762430    1654.923182  -0.331052  7.410763e-01    нейтральный исход  \n",
       "4   4040.441007    3722.117072  -0.278067  7.810423e-01    нейтральный исход  \n",
       "..          ...            ...        ...           ...                  ...  \n",
       "57  2906.824458    2795.917176   0.941234  3.467676e-01    нейтральный исход  \n",
       "58  2530.274648    2875.459633   1.495845  1.355901e-01    нейтральный исход  \n",
       "59  3074.648887    2689.343053  -1.504556  1.333273e-01    нейтральный исход  \n",
       "60  2442.266788    2891.333359  -0.926459  3.550228e-01    нейтральный исход  \n",
       "61     0.000000    2739.887003  20.320572  4.901100e-78  отрицательный исход  \n",
       "\n",
       "[62 rows x 14 columns]"
      ]
     },
     "execution_count": 242,
     "metadata": {},
     "output_type": "execute_result"
    }
   ],
   "source": [
    "df"
   ]
  },
  {
   "cell_type": "code",
   "execution_count": 243,
   "id": "e1c8928c",
   "metadata": {},
   "outputs": [],
   "source": [
    "# Таблица с положительными исходоми\n",
    "\n",
    "df1 = df.loc[ df [ 'label' ] == 'положительный исход' ]"
   ]
  },
  {
   "cell_type": "code",
   "execution_count": 244,
   "id": "0ca34194",
   "metadata": {},
   "outputs": [],
   "source": [
    "# Таблица с отрицательными исходоми\n",
    "\n",
    "df2 = df.loc[ df [ 'label' ] == 'отрицательный исход' ]"
   ]
  },
  {
   "cell_type": "code",
   "execution_count": 245,
   "id": "69e4cc62",
   "metadata": {},
   "outputs": [],
   "source": [
    "# Таблица с нейтральными исходоми\n",
    "\n",
    "df3 = df.loc[ df [ 'label' ] == 'нейтральный исход' ]"
   ]
  },
  {
   "cell_type": "code",
   "execution_count": 246,
   "id": "224fe376",
   "metadata": {},
   "outputs": [],
   "source": [
    "writer = pd.ExcelWriter('Для калькулятора.xlsx')\n",
    "\n",
    "df1.to_excel(writer, sheet_name='Положительный исход', index=False)\n",
    "df2.to_excel(writer, sheet_name='Отрицательный исход', index=False)\n",
    "df3.to_excel(writer, sheet_name='Нейтральный исход', index=False)"
   ]
  },
  {
   "cell_type": "code",
   "execution_count": 247,
   "id": "9085c1f1",
   "metadata": {},
   "outputs": [
    {
     "name": "stderr",
     "output_type": "stream",
     "text": [
      "C:\\Users\\MDi\\AppData\\Local\\Temp\\ipykernel_11772\\934276808.py:1: FutureWarning: save is not part of the public API, usage can give unexpected results and will be removed in a future version\n",
      "  writer.save()\n"
     ]
    }
   ],
   "source": [
    "writer.save()"
   ]
  },
  {
   "cell_type": "code",
   "execution_count": null,
   "id": "dc27296b",
   "metadata": {},
   "outputs": [],
   "source": []
  },
  {
   "cell_type": "code",
   "execution_count": 248,
   "id": "924773e1",
   "metadata": {},
   "outputs": [],
   "source": [
    "# если p_value меньше 0,05 - то средние в 2х выборках не равны. Гипотеза о равенстве средних не подтверждается\n",
    "# p_value > 0,05 - РАВНЫ"
   ]
  }
 ],
 "metadata": {
  "kernelspec": {
   "display_name": "Python 3 (ipykernel)",
   "language": "python",
   "name": "python3"
  },
  "language_info": {
   "codemirror_mode": {
    "name": "ipython",
    "version": 3
   },
   "file_extension": ".py",
   "mimetype": "text/x-python",
   "name": "python",
   "nbconvert_exporter": "python",
   "pygments_lexer": "ipython3",
   "version": "3.11.4"
  }
 },
 "nbformat": 4,
 "nbformat_minor": 5
}
