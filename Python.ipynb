{
 "cells": [
  {
   "cell_type": "code",
   "execution_count": 1,
   "id": "69b012d0",
   "metadata": {},
   "outputs": [],
   "source": [
    "from scipy.stats import ttest_ind\n",
    "import scipy.stats as stats\n",
    "import numpy as np\n",
    "from math import sqrt\n",
    "from scipy import stats\n",
    "from numpy import cov, linspace\n",
    "from statistics import mean\n",
    "from numpy.random import normal, exponential\n",
    "import matplotlib.pyplot as plt\n",
    "from random import random\n",
    "%matplotlib inline\n",
    "import pandas as pd\n",
    "import seaborn as sns \n",
    "import matplotlib.pyplot as plt\n",
    "import datetime as dt"
   ]
  },
  {
   "cell_type": "code",
   "execution_count": 2,
   "id": "554d432d",
   "metadata": {},
   "outputs": [],
   "source": [
    "# Задание 3.1\n",
    "# Импортируйте файл с данными в Jupyter Notebook и расшифруйте идентификаторы городов с помощью листа city_dict"
   ]
  },
  {
   "cell_type": "code",
   "execution_count": 3,
   "id": "dcb9a6bb",
   "metadata": {},
   "outputs": [],
   "source": [
    "dataset = pd.read_excel('Финальная первичная аттестация. Вариант 1. Python.xlsx', sheet_name = 'Dataset')\n",
    "city_dict = pd.read_excel('Финальная первичная аттестация. Вариант 1. Python.xlsx', sheet_name = 'city_dict')"
   ]
  },
  {
   "cell_type": "code",
   "execution_count": 4,
   "id": "a62120a3",
   "metadata": {},
   "outputs": [],
   "source": [
    "data = pd.merge(dataset, city_dict,\n",
    "                              how='left',                      \n",
    "         left_on='id_city', right_on='id_city')"
   ]
  },
  {
   "cell_type": "code",
   "execution_count": 5,
   "id": "f1f48fe5",
   "metadata": {},
   "outputs": [
    {
     "data": {
      "text/html": [
       "<div>\n",
       "<style scoped>\n",
       "    .dataframe tbody tr th:only-of-type {\n",
       "        vertical-align: middle;\n",
       "    }\n",
       "\n",
       "    .dataframe tbody tr th {\n",
       "        vertical-align: top;\n",
       "    }\n",
       "\n",
       "    .dataframe thead th {\n",
       "        text-align: right;\n",
       "    }\n",
       "</style>\n",
       "<table border=\"1\" class=\"dataframe\">\n",
       "  <thead>\n",
       "    <tr style=\"text-align: right;\">\n",
       "      <th></th>\n",
       "      <th>id_view</th>\n",
       "      <th>time_view</th>\n",
       "      <th>id_group</th>\n",
       "      <th>id_city</th>\n",
       "      <th>nflag_order</th>\n",
       "      <th>name_city</th>\n",
       "    </tr>\n",
       "  </thead>\n",
       "  <tbody>\n",
       "    <tr>\n",
       "      <th>0</th>\n",
       "      <td>10457162393</td>\n",
       "      <td>2023-01-17 13:56:06.118</td>\n",
       "      <td>0</td>\n",
       "      <td>3</td>\n",
       "      <td>1</td>\n",
       "      <td>Новосибирск</td>\n",
       "    </tr>\n",
       "    <tr>\n",
       "      <th>1</th>\n",
       "      <td>10457152884</td>\n",
       "      <td>2023-01-30 17:38:18.629</td>\n",
       "      <td>1</td>\n",
       "      <td>1</td>\n",
       "      <td>1</td>\n",
       "      <td>Москва</td>\n",
       "    </tr>\n",
       "    <tr>\n",
       "      <th>2</th>\n",
       "      <td>10457162947</td>\n",
       "      <td>2023-01-07 14:06:22.689</td>\n",
       "      <td>1</td>\n",
       "      <td>1</td>\n",
       "      <td>1</td>\n",
       "      <td>Москва</td>\n",
       "    </tr>\n",
       "    <tr>\n",
       "      <th>3</th>\n",
       "      <td>10457197478</td>\n",
       "      <td>2023-01-02 11:02:58.189</td>\n",
       "      <td>0</td>\n",
       "      <td>3</td>\n",
       "      <td>0</td>\n",
       "      <td>Новосибирск</td>\n",
       "    </tr>\n",
       "    <tr>\n",
       "      <th>4</th>\n",
       "      <td>10457176480</td>\n",
       "      <td>2023-01-04 22:56:19.240</td>\n",
       "      <td>0</td>\n",
       "      <td>1</td>\n",
       "      <td>1</td>\n",
       "      <td>Москва</td>\n",
       "    </tr>\n",
       "    <tr>\n",
       "      <th>...</th>\n",
       "      <td>...</td>\n",
       "      <td>...</td>\n",
       "      <td>...</td>\n",
       "      <td>...</td>\n",
       "      <td>...</td>\n",
       "      <td>...</td>\n",
       "    </tr>\n",
       "    <tr>\n",
       "      <th>21934</th>\n",
       "      <td>10457187341</td>\n",
       "      <td>2023-01-07 01:09:40.477</td>\n",
       "      <td>1</td>\n",
       "      <td>1</td>\n",
       "      <td>0</td>\n",
       "      <td>Москва</td>\n",
       "    </tr>\n",
       "    <tr>\n",
       "      <th>21935</th>\n",
       "      <td>10457168816</td>\n",
       "      <td>2023-01-21 02:42:09.559</td>\n",
       "      <td>0</td>\n",
       "      <td>1</td>\n",
       "      <td>1</td>\n",
       "      <td>Москва</td>\n",
       "    </tr>\n",
       "    <tr>\n",
       "      <th>21936</th>\n",
       "      <td>10457173452</td>\n",
       "      <td>2023-01-13 12:57:11.272</td>\n",
       "      <td>1</td>\n",
       "      <td>1</td>\n",
       "      <td>1</td>\n",
       "      <td>Москва</td>\n",
       "    </tr>\n",
       "    <tr>\n",
       "      <th>21937</th>\n",
       "      <td>10457142488</td>\n",
       "      <td>2023-01-24 21:53:01.634</td>\n",
       "      <td>1</td>\n",
       "      <td>8</td>\n",
       "      <td>1</td>\n",
       "      <td>Нижний Новгород</td>\n",
       "    </tr>\n",
       "    <tr>\n",
       "      <th>21938</th>\n",
       "      <td>10457171204</td>\n",
       "      <td>2023-01-06 14:06:18.420</td>\n",
       "      <td>1</td>\n",
       "      <td>2</td>\n",
       "      <td>1</td>\n",
       "      <td>Санкт-Петербург</td>\n",
       "    </tr>\n",
       "  </tbody>\n",
       "</table>\n",
       "<p>21939 rows × 6 columns</p>\n",
       "</div>"
      ],
      "text/plain": [
       "           id_view               time_view  id_group  id_city  nflag_order  \\\n",
       "0      10457162393 2023-01-17 13:56:06.118         0        3            1   \n",
       "1      10457152884 2023-01-30 17:38:18.629         1        1            1   \n",
       "2      10457162947 2023-01-07 14:06:22.689         1        1            1   \n",
       "3      10457197478 2023-01-02 11:02:58.189         0        3            0   \n",
       "4      10457176480 2023-01-04 22:56:19.240         0        1            1   \n",
       "...            ...                     ...       ...      ...          ...   \n",
       "21934  10457187341 2023-01-07 01:09:40.477         1        1            0   \n",
       "21935  10457168816 2023-01-21 02:42:09.559         0        1            1   \n",
       "21936  10457173452 2023-01-13 12:57:11.272         1        1            1   \n",
       "21937  10457142488 2023-01-24 21:53:01.634         1        8            1   \n",
       "21938  10457171204 2023-01-06 14:06:18.420         1        2            1   \n",
       "\n",
       "             name_city  \n",
       "0          Новосибирск  \n",
       "1               Москва  \n",
       "2               Москва  \n",
       "3          Новосибирск  \n",
       "4               Москва  \n",
       "...                ...  \n",
       "21934           Москва  \n",
       "21935           Москва  \n",
       "21936           Москва  \n",
       "21937  Нижний Новгород  \n",
       "21938  Санкт-Петербург  \n",
       "\n",
       "[21939 rows x 6 columns]"
      ]
     },
     "execution_count": 5,
     "metadata": {},
     "output_type": "execute_result"
    }
   ],
   "source": [
    "data"
   ]
  },
  {
   "cell_type": "code",
   "execution_count": 6,
   "id": "03598787",
   "metadata": {},
   "outputs": [],
   "source": [
    "# Задание 3.2\n",
    "# Рассчитайте результаты АВ-теста и с помощью статистического критерия сделайте вывод"
   ]
  },
  {
   "cell_type": "code",
   "execution_count": 7,
   "id": "c8e8fed0",
   "metadata": {},
   "outputs": [],
   "source": [
    "def test_calc (r0, r1, alpha = 0.05):\n",
    "    s, p = ttest_ind (r0, r1)\n",
    "    print ('Т-тест: стат.критерий =' ,s )    \n",
    "    print ('Т-тест: pvalue =' ,p )\n",
    "    if p > alpha:\n",
    "        print ('Т-тест: средние значения в выборках равны')\n",
    "    else:\n",
    "        print ('Т-тест: средние значения в выборках не равны')"
   ]
  },
  {
   "cell_type": "code",
   "execution_count": 8,
   "id": "37936434",
   "metadata": {},
   "outputs": [],
   "source": [
    "r0 = data[ data ['id_group']==0 ] ['nflag_order']\n",
    "r1 = data[ data ['id_group']==1 ] ['nflag_order']"
   ]
  },
  {
   "cell_type": "code",
   "execution_count": 9,
   "id": "fa3e95b6",
   "metadata": {},
   "outputs": [
    {
     "name": "stdout",
     "output_type": "stream",
     "text": [
      "Т-тест: стат.критерий = -9.41595134321716\n",
      "Т-тест: pvalue = 5.1365957325220535e-21\n",
      "Т-тест: средние значения в выборках не равны\n"
     ]
    }
   ],
   "source": [
    "test_calc (r0, r1, alpha = 0.05)"
   ]
  },
  {
   "cell_type": "code",
   "execution_count": 10,
   "id": "472150c3",
   "metadata": {},
   "outputs": [
    {
     "data": {
      "text/plain": [
       "0.6150932939220395"
      ]
     },
     "execution_count": 10,
     "metadata": {},
     "output_type": "execute_result"
    }
   ],
   "source": [
    "avg0 = data[ data ['id_group']==0 ] ['nflag_order'].mean()\n",
    "avg0"
   ]
  },
  {
   "cell_type": "code",
   "execution_count": 11,
   "id": "baece59b",
   "metadata": {},
   "outputs": [
    {
     "data": {
      "text/plain": [
       "0.6757851165301899"
      ]
     },
     "execution_count": 11,
     "metadata": {},
     "output_type": "execute_result"
    }
   ],
   "source": [
    "avg1 = data[ data ['id_group']==1 ] ['nflag_order'].mean()\n",
    "avg1"
   ]
  },
  {
   "cell_type": "code",
   "execution_count": 12,
   "id": "ffe15f27",
   "metadata": {},
   "outputs": [],
   "source": [
    "# Вывод:\n",
    "# Среднее nflag_order в тестовой группе (id_group = 1) выше. Титест показал статистическую разницу.\n",
    "# Новая платежная механика повышает конвертацию в созданный заказ."
   ]
  },
  {
   "cell_type": "code",
   "execution_count": 13,
   "id": "e1f218fe",
   "metadata": {},
   "outputs": [],
   "source": [
    "# Задание 3.3\n",
    "# Запустите цикл, который пробежится по всем городам в датасете.\n",
    "# Выявите те города, в которых есть статистически значимая разница между группами А и В.\n",
    "# Создайте переменную типа \"список\", которая будет хранить эти города."
   ]
  },
  {
   "cell_type": "code",
   "execution_count": 14,
   "id": "be7f9491",
   "metadata": {},
   "outputs": [
    {
     "name": "stdout",
     "output_type": "stream",
     "text": [
      "['Казань', 'Москва', 'Санкт-Петербург']\n"
     ]
    }
   ],
   "source": [
    "cities_with_different_results = []\n",
    "alpha = 0.05\n",
    "\n",
    "for i, j in data.groupby('name_city'):\n",
    "    s, p = ttest_ind ( j [j ['id_group'] == 0]['nflag_order'], j [j ['id_group'] == 1]['nflag_order'] )\n",
    "    if p < alpha:\n",
    "        cities_with_different_results.append (i)\n",
    "    #print (s, p)\n",
    "print(cities_with_different_results)"
   ]
  },
  {
   "cell_type": "code",
   "execution_count": 15,
   "id": "d6cc0a61",
   "metadata": {},
   "outputs": [
    {
     "name": "stdout",
     "output_type": "stream",
     "text": [
      "Архангельск\n",
      "Т-тест: стат.критерий = -1.9560899473633129\n",
      "Т-тест: pvalue = 0.0511754082950276\n",
      "Т-тест: средние значения в выборках равны\n",
      "\n",
      "Воронеж\n",
      "Т-тест: стат.критерий = 0.20003614652111743\n",
      "Т-тест: pvalue = 0.8415715510394312\n",
      "Т-тест: средние значения в выборках равны\n",
      "\n",
      "Казань\n",
      "Т-тест: стат.критерий = -3.0436700754076127\n",
      "Т-тест: pvalue = 0.0023855694044274188\n",
      "Т-тест: средние значения в выборках не равны\n",
      "\n",
      "Краснодар\n",
      "Т-тест: стат.критерий = -1.1550266261101212\n",
      "Т-тест: pvalue = 0.24850395048260338\n",
      "Т-тест: средние значения в выборках равны\n",
      "\n",
      "Москва\n",
      "Т-тест: стат.критерий = -7.410981603370934\n",
      "Т-тест: pvalue = 1.368947706664987e-13\n",
      "Т-тест: средние значения в выборках не равны\n",
      "\n",
      "Нижний Новгород\n",
      "Т-тест: стат.критерий = -0.08777122371237046\n",
      "Т-тест: pvalue = 0.9301037909783129\n",
      "Т-тест: средние значения в выборках равны\n",
      "\n",
      "Новосибирск\n",
      "Т-тест: стат.критерий = -1.4827891417672616\n",
      "Т-тест: pvalue = 0.13822636677161423\n",
      "Т-тест: средние значения в выборках равны\n",
      "\n",
      "Санкт-Петербург\n",
      "Т-тест: стат.критерий = -5.220275988832596\n",
      "Т-тест: pvalue = 1.8595141124883944e-07\n",
      "Т-тест: средние значения в выборках не равны\n",
      "\n",
      "Сочи\n",
      "Т-тест: стат.критерий = -0.2995466141263717\n",
      "Т-тест: pvalue = 0.7646178932512717\n",
      "Т-тест: средние значения в выборках равны\n",
      "\n",
      "Хабаровск\n",
      "Т-тест: стат.критерий = -1.4182652201929373\n",
      "Т-тест: pvalue = 0.156865633792813\n",
      "Т-тест: средние значения в выборках равны\n",
      "\n",
      "Челябинск\n",
      "Т-тест: стат.критерий = -1.3254943845073939\n",
      "Т-тест: pvalue = 0.18541963354338323\n",
      "Т-тест: средние значения в выборках равны\n",
      "\n"
     ]
    }
   ],
   "source": [
    "# Проверка:\n",
    "for i, j in data.groupby('name_city'):\n",
    "    print (i)\n",
    "    test_calc (j [j ['id_group'] == 0]['nflag_order'],\n",
    "               j [j ['id_group'] == 1]['nflag_order'],\n",
    "               alpha = 0.05)\n",
    "    print()"
   ]
  },
  {
   "cell_type": "code",
   "execution_count": 16,
   "id": "5d81dcfc",
   "metadata": {},
   "outputs": [],
   "source": [
    "# Задание 3.4\n",
    "# Создайте дополнительную колонку со значением 0 или 1 в зависимости от часа заказа.\n",
    "# 1 - если час пик (возьмите, например, 7,8,9,10,17,18,19,20), а 0 - все остальные часы.\n",
    "# Проверьте результат АВ-теста по отдельности на пиковых и не-пиковых заказах и сделайте выводы."
   ]
  },
  {
   "cell_type": "code",
   "execution_count": 17,
   "id": "e4d20058",
   "metadata": {},
   "outputs": [],
   "source": [
    "data ['hour'] = pd.to_datetime(data['time_view']).dt.hour"
   ]
  },
  {
   "cell_type": "code",
   "execution_count": 18,
   "id": "3c92d6fa",
   "metadata": {},
   "outputs": [
    {
     "data": {
      "text/html": [
       "<div>\n",
       "<style scoped>\n",
       "    .dataframe tbody tr th:only-of-type {\n",
       "        vertical-align: middle;\n",
       "    }\n",
       "\n",
       "    .dataframe tbody tr th {\n",
       "        vertical-align: top;\n",
       "    }\n",
       "\n",
       "    .dataframe thead th {\n",
       "        text-align: right;\n",
       "    }\n",
       "</style>\n",
       "<table border=\"1\" class=\"dataframe\">\n",
       "  <thead>\n",
       "    <tr style=\"text-align: right;\">\n",
       "      <th></th>\n",
       "      <th>id_view</th>\n",
       "      <th>time_view</th>\n",
       "      <th>id_group</th>\n",
       "      <th>id_city</th>\n",
       "      <th>nflag_order</th>\n",
       "      <th>name_city</th>\n",
       "      <th>hour</th>\n",
       "      <th>flag_peak_hour</th>\n",
       "    </tr>\n",
       "  </thead>\n",
       "  <tbody>\n",
       "    <tr>\n",
       "      <th>0</th>\n",
       "      <td>10457162393</td>\n",
       "      <td>2023-01-17 13:56:06.118</td>\n",
       "      <td>0</td>\n",
       "      <td>3</td>\n",
       "      <td>1</td>\n",
       "      <td>Новосибирск</td>\n",
       "      <td>13</td>\n",
       "      <td>0</td>\n",
       "    </tr>\n",
       "    <tr>\n",
       "      <th>1</th>\n",
       "      <td>10457152884</td>\n",
       "      <td>2023-01-30 17:38:18.629</td>\n",
       "      <td>1</td>\n",
       "      <td>1</td>\n",
       "      <td>1</td>\n",
       "      <td>Москва</td>\n",
       "      <td>17</td>\n",
       "      <td>1</td>\n",
       "    </tr>\n",
       "    <tr>\n",
       "      <th>2</th>\n",
       "      <td>10457162947</td>\n",
       "      <td>2023-01-07 14:06:22.689</td>\n",
       "      <td>1</td>\n",
       "      <td>1</td>\n",
       "      <td>1</td>\n",
       "      <td>Москва</td>\n",
       "      <td>14</td>\n",
       "      <td>0</td>\n",
       "    </tr>\n",
       "    <tr>\n",
       "      <th>3</th>\n",
       "      <td>10457197478</td>\n",
       "      <td>2023-01-02 11:02:58.189</td>\n",
       "      <td>0</td>\n",
       "      <td>3</td>\n",
       "      <td>0</td>\n",
       "      <td>Новосибирск</td>\n",
       "      <td>11</td>\n",
       "      <td>0</td>\n",
       "    </tr>\n",
       "    <tr>\n",
       "      <th>4</th>\n",
       "      <td>10457176480</td>\n",
       "      <td>2023-01-04 22:56:19.240</td>\n",
       "      <td>0</td>\n",
       "      <td>1</td>\n",
       "      <td>1</td>\n",
       "      <td>Москва</td>\n",
       "      <td>22</td>\n",
       "      <td>0</td>\n",
       "    </tr>\n",
       "    <tr>\n",
       "      <th>...</th>\n",
       "      <td>...</td>\n",
       "      <td>...</td>\n",
       "      <td>...</td>\n",
       "      <td>...</td>\n",
       "      <td>...</td>\n",
       "      <td>...</td>\n",
       "      <td>...</td>\n",
       "      <td>...</td>\n",
       "    </tr>\n",
       "    <tr>\n",
       "      <th>21934</th>\n",
       "      <td>10457187341</td>\n",
       "      <td>2023-01-07 01:09:40.477</td>\n",
       "      <td>1</td>\n",
       "      <td>1</td>\n",
       "      <td>0</td>\n",
       "      <td>Москва</td>\n",
       "      <td>1</td>\n",
       "      <td>0</td>\n",
       "    </tr>\n",
       "    <tr>\n",
       "      <th>21935</th>\n",
       "      <td>10457168816</td>\n",
       "      <td>2023-01-21 02:42:09.559</td>\n",
       "      <td>0</td>\n",
       "      <td>1</td>\n",
       "      <td>1</td>\n",
       "      <td>Москва</td>\n",
       "      <td>2</td>\n",
       "      <td>0</td>\n",
       "    </tr>\n",
       "    <tr>\n",
       "      <th>21936</th>\n",
       "      <td>10457173452</td>\n",
       "      <td>2023-01-13 12:57:11.272</td>\n",
       "      <td>1</td>\n",
       "      <td>1</td>\n",
       "      <td>1</td>\n",
       "      <td>Москва</td>\n",
       "      <td>12</td>\n",
       "      <td>0</td>\n",
       "    </tr>\n",
       "    <tr>\n",
       "      <th>21937</th>\n",
       "      <td>10457142488</td>\n",
       "      <td>2023-01-24 21:53:01.634</td>\n",
       "      <td>1</td>\n",
       "      <td>8</td>\n",
       "      <td>1</td>\n",
       "      <td>Нижний Новгород</td>\n",
       "      <td>21</td>\n",
       "      <td>0</td>\n",
       "    </tr>\n",
       "    <tr>\n",
       "      <th>21938</th>\n",
       "      <td>10457171204</td>\n",
       "      <td>2023-01-06 14:06:18.420</td>\n",
       "      <td>1</td>\n",
       "      <td>2</td>\n",
       "      <td>1</td>\n",
       "      <td>Санкт-Петербург</td>\n",
       "      <td>14</td>\n",
       "      <td>0</td>\n",
       "    </tr>\n",
       "  </tbody>\n",
       "</table>\n",
       "<p>21939 rows × 8 columns</p>\n",
       "</div>"
      ],
      "text/plain": [
       "           id_view               time_view  id_group  id_city  nflag_order  \\\n",
       "0      10457162393 2023-01-17 13:56:06.118         0        3            1   \n",
       "1      10457152884 2023-01-30 17:38:18.629         1        1            1   \n",
       "2      10457162947 2023-01-07 14:06:22.689         1        1            1   \n",
       "3      10457197478 2023-01-02 11:02:58.189         0        3            0   \n",
       "4      10457176480 2023-01-04 22:56:19.240         0        1            1   \n",
       "...            ...                     ...       ...      ...          ...   \n",
       "21934  10457187341 2023-01-07 01:09:40.477         1        1            0   \n",
       "21935  10457168816 2023-01-21 02:42:09.559         0        1            1   \n",
       "21936  10457173452 2023-01-13 12:57:11.272         1        1            1   \n",
       "21937  10457142488 2023-01-24 21:53:01.634         1        8            1   \n",
       "21938  10457171204 2023-01-06 14:06:18.420         1        2            1   \n",
       "\n",
       "             name_city  hour  flag_peak_hour  \n",
       "0          Новосибирск    13               0  \n",
       "1               Москва    17               1  \n",
       "2               Москва    14               0  \n",
       "3          Новосибирск    11               0  \n",
       "4               Москва    22               0  \n",
       "...                ...   ...             ...  \n",
       "21934           Москва     1               0  \n",
       "21935           Москва     2               0  \n",
       "21936           Москва    12               0  \n",
       "21937  Нижний Новгород    21               0  \n",
       "21938  Санкт-Петербург    14               0  \n",
       "\n",
       "[21939 rows x 8 columns]"
      ]
     },
     "execution_count": 18,
     "metadata": {},
     "output_type": "execute_result"
    }
   ],
   "source": [
    "data ['flag_peak_hour'] = np.where (data ['hour'].isin([7, 8, 9, 10, 17, 18, 19, 20]), 1, 0)\n",
    "data"
   ]
  },
  {
   "cell_type": "code",
   "execution_count": 19,
   "id": "9ca30d67",
   "metadata": {},
   "outputs": [],
   "source": [
    "# Непиковые часы\n",
    "\n",
    "r0_0 = data [ (data ['id_group']==0 ) & (data ['flag_peak_hour']==0)]['nflag_order']\n",
    "r1_0 = data [ (data ['id_group']==1 ) & (data ['flag_peak_hour']==0)]['nflag_order']              "
   ]
  },
  {
   "cell_type": "code",
   "execution_count": 20,
   "id": "734dd994",
   "metadata": {},
   "outputs": [
    {
     "name": "stdout",
     "output_type": "stream",
     "text": [
      "Т-тест: стат.критерий = -6.997243317124079\n",
      "Т-тест: pvalue = 2.7237344158581742e-12\n",
      "Т-тест: средние значения в выборках не равны\n"
     ]
    }
   ],
   "source": [
    "test_calc (r0_0, r1_0, alpha = 0.05)"
   ]
  },
  {
   "cell_type": "code",
   "execution_count": 21,
   "id": "02ecde50",
   "metadata": {},
   "outputs": [
    {
     "data": {
      "text/plain": [
       "0.6200055111600992"
      ]
     },
     "execution_count": 21,
     "metadata": {},
     "output_type": "execute_result"
    }
   ],
   "source": [
    "avg0_0 = data [ (data ['id_group']==0 ) & (data ['flag_peak_hour']==0)]['nflag_order'].mean()\n",
    "avg0_0"
   ]
  },
  {
   "cell_type": "code",
   "execution_count": 22,
   "id": "e52d84f0",
   "metadata": {},
   "outputs": [
    {
     "data": {
      "text/plain": [
       "0.6751420070327292"
      ]
     },
     "execution_count": 22,
     "metadata": {},
     "output_type": "execute_result"
    }
   ],
   "source": [
    "avg1_0 = data [ (data ['id_group']==1 ) & (data ['flag_peak_hour']==0)]['nflag_order'].mean()\n",
    "avg1_0"
   ]
  },
  {
   "cell_type": "code",
   "execution_count": 23,
   "id": "09122c30",
   "metadata": {},
   "outputs": [],
   "source": [
    "# Пиковые часы\n",
    "\n",
    "r0_1 = data [ (data ['id_group']==0 ) & (data ['flag_peak_hour']==1)]['nflag_order']\n",
    "r1_1 = data [ (data ['id_group']==1 ) & (data ['flag_peak_hour']==1)]['nflag_order']  "
   ]
  },
  {
   "cell_type": "code",
   "execution_count": 24,
   "id": "7d96ef26",
   "metadata": {},
   "outputs": [
    {
     "name": "stdout",
     "output_type": "stream",
     "text": [
      "Т-тест: стат.критерий = -6.422002058720224\n",
      "Т-тест: pvalue = 1.429452278435098e-10\n",
      "Т-тест: средние значения в выборках не равны\n"
     ]
    }
   ],
   "source": [
    "test_calc (r0_1, r1_1, alpha = 0.05)"
   ]
  },
  {
   "cell_type": "code",
   "execution_count": 25,
   "id": "0488075b",
   "metadata": {},
   "outputs": [
    {
     "data": {
      "text/plain": [
       "0.6051008968609866"
      ]
     },
     "execution_count": 25,
     "metadata": {},
     "output_type": "execute_result"
    }
   ],
   "source": [
    "avg0_1 = data [ (data ['id_group']==0 ) & (data ['flag_peak_hour']==1)]['nflag_order'].mean()\n",
    "avg0_1"
   ]
  },
  {
   "cell_type": "code",
   "execution_count": 26,
   "id": "e7487c7f",
   "metadata": {},
   "outputs": [
    {
     "data": {
      "text/plain": [
       "0.6770637268082818"
      ]
     },
     "execution_count": 26,
     "metadata": {},
     "output_type": "execute_result"
    }
   ],
   "source": [
    "avg1_1 = data [ (data ['id_group']==1 ) & (data ['flag_peak_hour']==1)]['nflag_order'].mean()\n",
    "avg1_1"
   ]
  },
  {
   "cell_type": "code",
   "execution_count": 27,
   "id": "5945fc61",
   "metadata": {},
   "outputs": [],
   "source": [
    "# Вывод:\n",
    "# Среднее nflag_order в тестовой группе (id_group = 1) выше, как в пиковые часы, так и в непиковые часы.\n",
    "# Титест показал статистическую разницу.\n",
    "# Новая платежная механика повышает конвертацию в созданный заказ."
   ]
  },
  {
   "cell_type": "code",
   "execution_count": 28,
   "id": "3ec733eb",
   "metadata": {},
   "outputs": [],
   "source": [
    "# Задание 3.5\n",
    "# Опишите ваши результаты. Ваши выводы можно оформить внутри тетрадки .ipynb\n",
    "\n",
    "# Среднее nflag_order в тестовой группе (id_group = 1) выше, как в пиковые часы, так и в непиковые часы.\n",
    "# Новая платежная механика повышает конвертацию в созданный заказ для всей выборки в целом.\n",
    "# Анализ статистически значимой разницы между тестовой и контрольной группами по городам, показал,\n",
    "# что новая платежная механика повышает конвертацию в созданный заказ в трех городах:\n",
    "# Казань, Москва и Санкт-Петербург"
   ]
  }
 ],
 "metadata": {
  "kernelspec": {
   "display_name": "Python 3 (ipykernel)",
   "language": "python",
   "name": "python3"
  },
  "language_info": {
   "codemirror_mode": {
    "name": "ipython",
    "version": 3
   },
   "file_extension": ".py",
   "mimetype": "text/x-python",
   "name": "python",
   "nbconvert_exporter": "python",
   "pygments_lexer": "ipython3",
   "version": "3.11.4"
  }
 },
 "nbformat": 4,
 "nbformat_minor": 5
}
